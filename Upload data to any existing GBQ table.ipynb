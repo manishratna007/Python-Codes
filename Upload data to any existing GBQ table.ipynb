{
 "cells": [
  {
   "cell_type": "code",
   "execution_count": 7,
   "id": "af820b3b",
   "metadata": {},
   "outputs": [],
   "source": [
    "import os\n",
    "import pandas as pd\n",
    "from pandas.io import gbq"
   ]
  },
  {
   "cell_type": "code",
   "execution_count": 8,
   "id": "86b78e68",
   "metadata": {},
   "outputs": [],
   "source": [
    "df_bud_fc_final=pd.read_csv(r\"C:\\Users\\mratna\\Documents\\XPO\\Finance\\Goal_forecasting\\July-22\\V1\\July_22_Goal_Loader_V2.csv\")"
   ]
  },
  {
   "cell_type": "code",
   "execution_count": 9,
   "id": "77ccc764",
   "metadata": {},
   "outputs": [
    {
     "data": {
      "text/plain": [
       "GOAL_MTRC_CD         object\n",
       "GOAL_REF_LVL_CD      object\n",
       "GOAL_CD              object\n",
       "GOAL_VAL_EFF_DT      object\n",
       "GOAL_VAL_EXPR_DT     object\n",
       "GOAL_VAL_QTY        float64\n",
       "WHSE_LST_UPDT_DT     object\n",
       "WHSE_LST_UPDT_BY     object\n",
       "dtype: object"
      ]
     },
     "execution_count": 9,
     "metadata": {},
     "output_type": "execute_result"
    }
   ],
   "source": [
    "df_bud_fc_final.dtypes"
   ]
  },
  {
   "cell_type": "code",
   "execution_count": 10,
   "id": "eefbe5cc",
   "metadata": {},
   "outputs": [
    {
     "name": "stderr",
     "output_type": "stream",
     "text": [
      "C:\\Users\\mratna\\Anaconda3\\lib\\site-packages\\pandas\\core\\tools\\datetimes.py:1063: UserWarning: Parsing '27-06-2022' in DD/MM/YYYY format. Provide format or specify infer_datetime_format=True for consistent parsing.\n",
      "  cache_array = _maybe_cache(arg, format, cache, convert_listlike)\n"
     ]
    }
   ],
   "source": [
    "#Change daatype of datatypes of \"date time columns\" into datetime64[ns]\n",
    "#If they aren't already\n",
    "df_bud_fc_final['GOAL_VAL_EFF_DT'] = df_bud_fc_final['GOAL_VAL_EFF_DT'].astype('datetime64[ns]')\n",
    "df_bud_fc_final['GOAL_VAL_EXPR_DT'] = df_bud_fc_final['GOAL_VAL_EXPR_DT'].astype('datetime64[ns]')\n",
    "df_bud_fc_final['WHSE_LST_UPDT_DT'] = df_bud_fc_final['WHSE_LST_UPDT_DT'] .astype('datetime64[ns]')"
   ]
  },
  {
   "cell_type": "code",
   "execution_count": 11,
   "id": "67c51501",
   "metadata": {},
   "outputs": [
    {
     "data": {
      "text/plain": [
       "GOAL_MTRC_CD                object\n",
       "GOAL_REF_LVL_CD             object\n",
       "GOAL_CD                     object\n",
       "GOAL_VAL_EFF_DT     datetime64[ns]\n",
       "GOAL_VAL_EXPR_DT    datetime64[ns]\n",
       "GOAL_VAL_QTY               float64\n",
       "WHSE_LST_UPDT_DT    datetime64[ns]\n",
       "WHSE_LST_UPDT_BY            object\n",
       "dtype: object"
      ]
     },
     "execution_count": 11,
     "metadata": {},
     "output_type": "execute_result"
    }
   ],
   "source": [
    "df_bud_fc_final.dtypes"
   ]
  },
  {
   "cell_type": "code",
   "execution_count": 12,
   "id": "6c0cc0d7",
   "metadata": {},
   "outputs": [
    {
     "name": "stderr",
     "output_type": "stream",
     "text": [
      "100%|████████████████████████████████████████████████████████████████████████████████████████████| 1/1 [00:00<?, ?it/s]\n"
     ]
    }
   ],
   "source": [
    "df_bud_fc_final.to_gbq(\n",
    "    destination_table='ltl-prd-data-user.SANDBOX.goal_apr_22',\n",
    "    table_schema=[\n",
    "        {'name': 'GOAL_MTRC_CD','type': 'STRING'},\n",
    "        {'name': 'GOAL_REF_LVL_CD','type': 'STRING'},\n",
    "        {'name': 'GOAL_CD','type': 'STRING'},\n",
    "        {'name': 'GOAL_VAL_EFF_DT','type': 'DATETIME'},\n",
    "        {'name': 'GOAL_VAL_EXPR_DT','type': 'DATETIME'},\n",
    "        {'name': 'GOAL_VAL_QTY','type': 'FLOAT'},\n",
    "        {'name': 'WHSE_LST_UPDT_DT','type': 'DATETIME'},\n",
    "        {'name': 'WHSE_LST_UPDT_BY','type': 'STRING'}\n",
    "    ],\n",
    "    project_id='ltl-prd-data-user',\n",
    "    if_exists='replace' #can Append also \n",
    ")\n"
   ]
  },
  {
   "cell_type": "code",
   "execution_count": null,
   "id": "69cb002b",
   "metadata": {},
   "outputs": [],
   "source": []
  }
 ],
 "metadata": {
  "kernelspec": {
   "display_name": "Python 3 (ipykernel)",
   "language": "python",
   "name": "python3"
  },
  "language_info": {
   "codemirror_mode": {
    "name": "ipython",
    "version": 3
   },
   "file_extension": ".py",
   "mimetype": "text/x-python",
   "name": "python",
   "nbconvert_exporter": "python",
   "pygments_lexer": "ipython3",
   "version": "3.8.8"
  }
 },
 "nbformat": 4,
 "nbformat_minor": 5
}
