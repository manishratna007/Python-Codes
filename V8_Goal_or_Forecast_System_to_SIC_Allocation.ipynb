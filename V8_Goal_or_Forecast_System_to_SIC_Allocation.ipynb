{
 "cells": [
  {
   "cell_type": "markdown",
   "id": "7bfe9d7f",
   "metadata": {},
   "source": [
    "# Install pandas-gbq package from Anaconda Prompt"
   ]
  },
  {
   "cell_type": "code",
   "execution_count": null,
   "id": "0d668a55",
   "metadata": {},
   "outputs": [],
   "source": [
    "#For the first time, Open Anaconda Prompt as an Administrator and Run this code\n",
    "# It may take time upto 15 min to necessary packages. Allow the prompt everytime it asks for permission \n",
    "conda install pandas-gbq -c conda-forge"
   ]
  },
  {
   "cell_type": "markdown",
   "id": "0e99137d",
   "metadata": {},
   "source": [
    "# Import or install 5 packages - os, ipywidgets, Pandas, Numpy, Datetime"
   ]
  },
  {
   "cell_type": "code",
   "execution_count": null,
   "id": "ac2b3cf5",
   "metadata": {},
   "outputs": [],
   "source": [
    "#After installing pandas-gbq package run this section if following packages are not installed\n",
    "!pip install pandas\n",
    "!pip install numpy"
   ]
  },
  {
   "cell_type": "code",
   "execution_count": 1,
   "id": "7663242d",
   "metadata": {},
   "outputs": [],
   "source": [
    "#Importing all necessary packages\n",
    "import os\n",
    "import pandas as pd\n",
    "from pandas.io import gbq\n",
    "import numpy as np\n",
    "from datetime import datetime\n",
    "import ipywidgets as widgets"
   ]
  },
  {
   "cell_type": "markdown",
   "id": "f756cc51",
   "metadata": {},
   "source": [
    "# Get Last Year's same Month's data from GBQ"
   ]
  },
  {
   "cell_type": "code",
   "execution_count": null,
   "id": "00ee946f",
   "metadata": {},
   "outputs": [],
   "source": [
    "start_date = input('Enter a date in YYYY-MM-DD format: ')\n",
    "end_date = input('Enter a date in YYYY-MM-DD format: ')\n",
    "\n",
    "query = \"SELECT LOC.LVL4_SIC_CD AS REF_SIC_CD, COUNT(DISTINCT SHPMT_INSTC_ID) AS SHIPMENT_COUNT, sum(NET_REVENUE) as NET_REVENUE, SUM(WEIGHT) AS WEIGHT,SUM(NET_REVENUE_LESS_FSC) AS NET_REVENUE_LESS_FSC, safe_divide(ROUND(COALESCE(CAST( ( SUM(DISTINCT (CAST(ROUND(COALESCE( ( (WEIGHT/2000) * SIC_MILES  )  ,0) *(1/1000*1.0), 9) AS NUMERIC) +(cast(cast(concat('0x', substr(to_hex(md5(CAST( SHPMT_INSTC_ID   AS STRING))), 1, 15)) as int64) as numeric) * 4294967296 +cast(cast(concat('0x', substr(to_hex(md5(CAST( SHPMT_INSTC_ID   AS STRING))), 16, 8)) as int64) as numeric)) * 0.000000001 )) -SUM(DISTINCT (cast(cast(concat('0x', substr(to_hex(md5(CAST( SHPMT_INSTC_ID   AS STRING))), 1, 15)) as int64) as numeric) * 4294967296 +cast(cast(concat('0x', substr(to_hex(md5(CAST( SHPMT_INSTC_ID   AS STRING))), 16, 8)) as int64) as numeric)) * 0.000000001) )  /(1/1000*1.0) AS FLOAT64), 0), 6), ROUND(COALESCE(CAST( ( SUM(DISTINCT (CAST(ROUND(COALESCE(WEIGHT  ,0)*(1/1000*1.0), 9) AS NUMERIC)+ (cast(cast(concat('0x', substr(to_hex(md5(CAST( SHPMT_INSTC_ID   AS STRING))), 1, 15)) as int64) as numeric) * 4294967296 +cast(cast(concat('0x', substr(to_hex(md5(CAST(SHPMT_INSTC_ID   AS STRING))), 16, 8)) as int64) as numeric)) * 0.000000001 )) -SUM(DISTINCT (cast(cast(concat('0x', substr(to_hex(md5(CAST(SHPMT_INSTC_ID   AS STRING))), 1, 15)) as int64) as numeric) * 4294967296 +cast(cast(concat('0x', substr(to_hex(md5(CAST(SHPMT_INSTC_ID   AS STRING))), 16, 8)) as int64) as numeric)) * 0.000000001) ) / (1/1000*1.0) AS FLOAT64), 0), 6)) * 2000 AS LENGTH_OF_HAUL FROM `ltl-prd-datahub.LOOKER_TEMPORARY_LAYER.PC_SHIPMENT` SHP left join `ltl-prd-datahub.LOOKER_TEMPORARY_LAYER.PC_CALENDAR` CAL on SHP.PICKUP_DATE = CAL.CLDR_DATE left join `ltl-prd-datahub.ALL_LOOKER_VIEW.LOC_FREIGHT_POSTAL_AREA_RDS_VW` SIC on SIC.GEO_PSTL_CD = SHP.SHPR_ZIP and SIC.ACTV_FLG = 1 left join `ltl-prd-datahub.ALL_LOOKER_VIEW.LOC_OPS_HIERARCHY_FLATTEN_VW` LOC on SIC.REF_SIC_CD = LOC.LVL5_SIC_CD WHERE PICKUP_DATE between '\"+start_date+\"' and '\"+end_date+\"' and CAL.REV_DAY <> 0 and IS_REV_SHPMT = 'Y' and LOC.LVL4_SIC_CD is not null group by 1 order by 1\"\n",
    "\n",
    "df_sic = pd.read_gbq(project_id='ltl-prd-data-user', query=query, dialect='standard')"
   ]
  },
  {
   "cell_type": "code",
   "execution_count": 2,
   "id": "df12c9f4",
   "metadata": {},
   "outputs": [],
   "source": [
    "#Updated df_sic (including missing SIC_TERM_ZONE_CODES values from Sarah's file) (like NMN,'XNP','XSH','UKC' IN jULY 22 )\n",
    "df_sic=pd.read_csv(r'C:\\Users\\mratna\\Documents\\XPO\\Finance\\Goal_forecasting\\Aug-22\\V1\\SIC_AUG_2021.csv')"
   ]
  },
  {
   "cell_type": "markdown",
   "id": "d69bd7aa",
   "metadata": {},
   "source": [
    "# Section for Budget and Forecast both\n",
    "\n",
    "# Select Budget and Forecast Excel file"
   ]
  },
  {
   "cell_type": "code",
   "execution_count": 3,
   "id": "8630552d",
   "metadata": {},
   "outputs": [
    {
     "data": {
      "application/vnd.jupyter.widget-view+json": {
       "model_id": "5ab3e42883cc4671b86a760c91772e62",
       "version_major": 2,
       "version_minor": 0
      },
      "text/plain": [
       "FileChooser(path='C:\\Users', filename='', title='<b> Choose the File that contains Budget and Forecast  detail…"
      ]
     },
     "metadata": {},
     "output_type": "display_data"
    }
   ],
   "source": [
    "#Assuming there are 2 worksheets in the Excel and 1st one is for Budget\n",
    "from ipyfilechooser import FileChooser\n",
    "\n",
    "BudgetFinanceExcelFile = FileChooser('c://users//')\n",
    "BudgetFinanceExcelFile.title = '<b> Choose the File that contains Budget and Forecast  details: </b>'\n",
    "BudgetFinanceExcelFile.use_dir_icons = True\n",
    "display(BudgetFinanceExcelFile)"
   ]
  },
  {
   "cell_type": "code",
   "execution_count": 4,
   "id": "ddda247c",
   "metadata": {},
   "outputs": [],
   "source": [
    "#Reading Budget and Forecast data\n",
    "#Assuming there are 2 worksheets in the Excel and 1st one is for Budget\n",
    "\n",
    "BudgetFinanceExcelFile     = BudgetFinanceExcelFile.selected.replace(\"\\\\\", \"\\\\\\\\\")\n",
    "df_bud = pd.read_excel(BudgetFinanceExcelFile, sheet_name=0, header=0)\n",
    "df_fc = pd.read_excel(BudgetFinanceExcelFile, sheet_name=1, header=0)"
   ]
  },
  {
   "cell_type": "code",
   "execution_count": 5,
   "id": "ee36b4b6",
   "metadata": {},
   "outputs": [
    {
     "name": "stdout",
     "output_type": "stream",
     "text": [
      "Enter today\"s date in YYYY-MM-DD format: 2022-07-29\n",
      "Enter your name: mr\n"
     ]
    }
   ],
   "source": [
    "#Get Date value for last update date column\n",
    "last_update_date= input('Enter today\"s date in YYYY-MM-DD format: ') #2022-04-01 00:00:00\n",
    "last_updated_by= input('Enter your name: ')  #mr"
   ]
  },
  {
   "cell_type": "code",
   "execution_count": 6,
   "id": "fc246c65",
   "metadata": {},
   "outputs": [
    {
     "name": "stderr",
     "output_type": "stream",
     "text": [
      "C:\\Users\\mratna\\AppData\\Local\\Temp/ipykernel_1908/1148932912.py:6: SettingWithCopyWarning: \n",
      "A value is trying to be set on a copy of a slice from a DataFrame\n",
      "\n",
      "See the caveats in the documentation: https://pandas.pydata.org/pandas-docs/stable/user_guide/indexing.html#returning-a-view-versus-a-copy\n",
      "  df_bud_1.dropna(subset=['SHPMT_CNT'], inplace=True)\n",
      "C:\\Users\\mratna\\AppData\\Local\\Temp/ipykernel_1908/1148932912.py:7: SettingWithCopyWarning: \n",
      "A value is trying to be set on a copy of a slice from a DataFrame\n",
      "\n",
      "See the caveats in the documentation: https://pandas.pydata.org/pandas-docs/stable/user_guide/indexing.html#returning-a-view-versus-a-copy\n",
      "  df_fc_1.dropna(subset=['SHPMT_CNT'], inplace=True)\n",
      "C:\\Users\\mratna\\AppData\\Local\\Temp/ipykernel_1908/1148932912.py:33: SettingWithCopyWarning: \n",
      "A value is trying to be set on a copy of a slice from a DataFrame.\n",
      "Try using .loc[row_indexer,col_indexer] = value instead\n",
      "\n",
      "See the caveats in the documentation: https://pandas.pydata.org/pandas-docs/stable/user_guide/indexing.html#returning-a-view-versus-a-copy\n",
      "  df_sic_2['PICKUP_DATE']=df_wrk_day_rep.values\n",
      "C:\\Users\\mratna\\AppData\\Local\\Temp/ipykernel_1908/1148932912.py:36: SettingWithCopyWarning: \n",
      "A value is trying to be set on a copy of a slice from a DataFrame.\n",
      "Try using .loc[row_indexer,col_indexer] = value instead\n",
      "\n",
      "See the caveats in the documentation: https://pandas.pydata.org/pandas-docs/stable/user_guide/indexing.html#returning-a-view-versus-a-copy\n",
      "  df_fc_2['PICKUP_DATE']=df_fc_2['PICKUP_DATE'].astype(str)\n",
      "C:\\Users\\mratna\\AppData\\Local\\Temp/ipykernel_1908/1148932912.py:37: SettingWithCopyWarning: \n",
      "A value is trying to be set on a copy of a slice from a DataFrame.\n",
      "Try using .loc[row_indexer,col_indexer] = value instead\n",
      "\n",
      "See the caveats in the documentation: https://pandas.pydata.org/pandas-docs/stable/user_guide/indexing.html#returning-a-view-versus-a-copy\n",
      "  df_bud_2['PICKUP_DATE']=df_bud_2['PICKUP_DATE'].astype(str)\n",
      "C:\\Users\\mratna\\AppData\\Local\\Temp/ipykernel_1908/1148932912.py:43: SettingWithCopyWarning: \n",
      "A value is trying to be set on a copy of a slice from a DataFrame.\n",
      "Try using .loc[row_indexer,col_indexer] = value instead\n",
      "\n",
      "See the caveats in the documentation: https://pandas.pydata.org/pandas-docs/stable/user_guide/indexing.html#returning-a-view-versus-a-copy\n",
      "  df_sic_2['PICKUP_DATE']=df_sic_2['PICKUP_DATE'].astype(str)\n",
      "C:\\Users\\mratna\\AppData\\Local\\Temp/ipykernel_1908/1148932912.py:45: SettingWithCopyWarning: \n",
      "A value is trying to be set on a copy of a slice from a DataFrame.\n",
      "Try using .loc[row_indexer,col_indexer] = value instead\n",
      "\n",
      "See the caveats in the documentation: https://pandas.pydata.org/pandas-docs/stable/user_guide/indexing.html#returning-a-view-versus-a-copy\n",
      "  df_sic_2['PICKUP_DATE']=df_sic_2['PICKUP_DATE']+[' 00:00:00']\n",
      "C:\\Users\\mratna\\AppData\\Local\\Temp/ipykernel_1908/1148932912.py:67: SettingWithCopyWarning: \n",
      "A value is trying to be set on a copy of a slice from a DataFrame.\n",
      "Try using .loc[row_indexer,col_indexer] = value instead\n",
      "\n",
      "See the caveats in the documentation: https://pandas.pydata.org/pandas-docs/stable/user_guide/indexing.html#returning-a-view-versus-a-copy\n",
      "  df_fc_final_1['GOAL_MTRC_CD']='OutboundRevenueShipmentsForecast'\n",
      "C:\\Users\\mratna\\AppData\\Local\\Temp/ipykernel_1908/1148932912.py:70: SettingWithCopyWarning: \n",
      "A value is trying to be set on a copy of a slice from a DataFrame.\n",
      "Try using .loc[row_indexer,col_indexer] = value instead\n",
      "\n",
      "See the caveats in the documentation: https://pandas.pydata.org/pandas-docs/stable/user_guide/indexing.html#returning-a-view-versus-a-copy\n",
      "  df_fc_final_2['GOAL_MTRC_CD']='OutboundRevenueWeightForecast'\n",
      "C:\\Users\\mratna\\AppData\\Local\\Temp/ipykernel_1908/1148932912.py:73: SettingWithCopyWarning: \n",
      "A value is trying to be set on a copy of a slice from a DataFrame.\n",
      "Try using .loc[row_indexer,col_indexer] = value instead\n",
      "\n",
      "See the caveats in the documentation: https://pandas.pydata.org/pandas-docs/stable/user_guide/indexing.html#returning-a-view-versus-a-copy\n",
      "  df_fc_final_3['GOAL_MTRC_CD']='OutboundRevenueForecast'\n",
      "C:\\Users\\mratna\\AppData\\Local\\Temp/ipykernel_1908/1148932912.py:76: SettingWithCopyWarning: \n",
      "A value is trying to be set on a copy of a slice from a DataFrame.\n",
      "Try using .loc[row_indexer,col_indexer] = value instead\n",
      "\n",
      "See the caveats in the documentation: https://pandas.pydata.org/pandas-docs/stable/user_guide/indexing.html#returning-a-view-versus-a-copy\n",
      "  df_fc_final_4['GOAL_MTRC_CD']='OutboundRevenueLessFSCForecast'\n",
      "C:\\Users\\mratna\\AppData\\Local\\Temp/ipykernel_1908/1148932912.py:79: SettingWithCopyWarning: \n",
      "A value is trying to be set on a copy of a slice from a DataFrame.\n",
      "Try using .loc[row_indexer,col_indexer] = value instead\n",
      "\n",
      "See the caveats in the documentation: https://pandas.pydata.org/pandas-docs/stable/user_guide/indexing.html#returning-a-view-versus-a-copy\n",
      "  df_fc_final_5['GOAL_MTRC_CD']='OutboundRevenueLengthofHaulForecast'\n",
      "C:\\Users\\mratna\\AppData\\Local\\Temp/ipykernel_1908/1148932912.py:83: SettingWithCopyWarning: \n",
      "A value is trying to be set on a copy of a slice from a DataFrame.\n",
      "Try using .loc[row_indexer,col_indexer] = value instead\n",
      "\n",
      "See the caveats in the documentation: https://pandas.pydata.org/pandas-docs/stable/user_guide/indexing.html#returning-a-view-versus-a-copy\n",
      "  df_bud_final_1['GOAL_MTRC_CD']='OutboundRevenueShipments'\n",
      "C:\\Users\\mratna\\AppData\\Local\\Temp/ipykernel_1908/1148932912.py:86: SettingWithCopyWarning: \n",
      "A value is trying to be set on a copy of a slice from a DataFrame.\n",
      "Try using .loc[row_indexer,col_indexer] = value instead\n",
      "\n",
      "See the caveats in the documentation: https://pandas.pydata.org/pandas-docs/stable/user_guide/indexing.html#returning-a-view-versus-a-copy\n",
      "  df_bud_final_2['GOAL_MTRC_CD']='OutboundRevenueWeight'\n",
      "C:\\Users\\mratna\\AppData\\Local\\Temp/ipykernel_1908/1148932912.py:89: SettingWithCopyWarning: \n",
      "A value is trying to be set on a copy of a slice from a DataFrame.\n",
      "Try using .loc[row_indexer,col_indexer] = value instead\n",
      "\n",
      "See the caveats in the documentation: https://pandas.pydata.org/pandas-docs/stable/user_guide/indexing.html#returning-a-view-versus-a-copy\n",
      "  df_bud_final_3['GOAL_MTRC_CD']='OutboundRevenue'\n",
      "C:\\Users\\mratna\\AppData\\Local\\Temp/ipykernel_1908/1148932912.py:92: SettingWithCopyWarning: \n",
      "A value is trying to be set on a copy of a slice from a DataFrame.\n",
      "Try using .loc[row_indexer,col_indexer] = value instead\n",
      "\n",
      "See the caveats in the documentation: https://pandas.pydata.org/pandas-docs/stable/user_guide/indexing.html#returning-a-view-versus-a-copy\n",
      "  df_bud_final_4['GOAL_MTRC_CD']='OutboundRevenueLessFSC'\n",
      "C:\\Users\\mratna\\AppData\\Local\\Temp/ipykernel_1908/1148932912.py:95: SettingWithCopyWarning: \n",
      "A value is trying to be set on a copy of a slice from a DataFrame.\n",
      "Try using .loc[row_indexer,col_indexer] = value instead\n",
      "\n",
      "See the caveats in the documentation: https://pandas.pydata.org/pandas-docs/stable/user_guide/indexing.html#returning-a-view-versus-a-copy\n",
      "  df_bud_final_5['GOAL_MTRC_CD']='OutboundRevenueLengthofHaul'\n",
      "C:\\Users\\mratna\\AppData\\Local\\Temp/ipykernel_1908/1148932912.py:98: FutureWarning: The frame.append method is deprecated and will be removed from pandas in a future version. Use pandas.concat instead.\n",
      "  df_fc_final_6=df_fc_final_1.append(df_fc_final_2)\n",
      "C:\\Users\\mratna\\AppData\\Local\\Temp/ipykernel_1908/1148932912.py:99: FutureWarning: The frame.append method is deprecated and will be removed from pandas in a future version. Use pandas.concat instead.\n",
      "  df_fc_final_7=df_fc_final_6.append(df_fc_final_3)\n",
      "C:\\Users\\mratna\\AppData\\Local\\Temp/ipykernel_1908/1148932912.py:100: FutureWarning: The frame.append method is deprecated and will be removed from pandas in a future version. Use pandas.concat instead.\n",
      "  df_fc_final_8=df_fc_final_7.append(df_fc_final_4)\n",
      "C:\\Users\\mratna\\AppData\\Local\\Temp/ipykernel_1908/1148932912.py:101: FutureWarning: The frame.append method is deprecated and will be removed from pandas in a future version. Use pandas.concat instead.\n",
      "  df_fc_final_9=df_fc_final_8.append(df_fc_final_5)\n",
      "C:\\Users\\mratna\\AppData\\Local\\Temp/ipykernel_1908/1148932912.py:105: FutureWarning: The frame.append method is deprecated and will be removed from pandas in a future version. Use pandas.concat instead.\n",
      "  df_bud_final_6=df_bud_final_1.append(df_bud_final_2)\n",
      "C:\\Users\\mratna\\AppData\\Local\\Temp/ipykernel_1908/1148932912.py:106: FutureWarning: The frame.append method is deprecated and will be removed from pandas in a future version. Use pandas.concat instead.\n",
      "  df_bud_final_7=df_bud_final_6.append(df_bud_final_3)\n",
      "C:\\Users\\mratna\\AppData\\Local\\Temp/ipykernel_1908/1148932912.py:107: FutureWarning: The frame.append method is deprecated and will be removed from pandas in a future version. Use pandas.concat instead.\n",
      "  df_bud_final_8=df_bud_final_7.append(df_bud_final_4)\n",
      "C:\\Users\\mratna\\AppData\\Local\\Temp/ipykernel_1908/1148932912.py:108: FutureWarning: The frame.append method is deprecated and will be removed from pandas in a future version. Use pandas.concat instead.\n",
      "  df_bud_final_9=df_bud_final_8.append(df_bud_final_5)\n",
      "C:\\Users\\mratna\\AppData\\Local\\Temp/ipykernel_1908/1148932912.py:112: FutureWarning: The frame.append method is deprecated and will be removed from pandas in a future version. Use pandas.concat instead.\n",
      "  df_bud_fc=df_bud_final_9.append(df_fc_final_9)\n"
     ]
    },
    {
     "ename": "NameError",
     "evalue": "name 'warnings' is not defined",
     "output_type": "error",
     "traceback": [
      "\u001b[1;31m---------------------------------------------------------------------------\u001b[0m",
      "\u001b[1;31mNameError\u001b[0m                                 Traceback (most recent call last)",
      "\u001b[1;32m~\\AppData\\Local\\Temp/ipykernel_1908/1148932912.py\u001b[0m in \u001b[0;36m<module>\u001b[1;34m\u001b[0m\n\u001b[0;32m    120\u001b[0m df_bud_fc_final=df_bud_fc[['GOAL_MTRC_CD','GOAL_REF_LVL_CD','GOAL_CD','GOAL_VAL_EFF_DT','GOAL_VAL_EXPR_DT','GOAL_VAL_QTY',\n\u001b[0;32m    121\u001b[0m                            'WHSE_LST_UPDT_DT','WHSE_LST_UPDT_BY']]\n\u001b[1;32m--> 122\u001b[1;33m \u001b[0mwarnings\u001b[0m\u001b[1;33m.\u001b[0m\u001b[0mfilterwarnings\u001b[0m\u001b[1;33m(\u001b[0m\u001b[1;34m'ignore'\u001b[0m\u001b[1;33m)\u001b[0m\u001b[1;33m\u001b[0m\u001b[1;33m\u001b[0m\u001b[0m\n\u001b[0m",
      "\u001b[1;31mNameError\u001b[0m: name 'warnings' is not defined"
     ]
    }
   ],
   "source": [
    "#Selecting only relevant columns from Goal and Forecasting data\n",
    "df_bud_1=df_bud[['PICKUP_DATE','SHPMT_CNT','WGT','NET_REV','NET_REV_NET_FSC','LoH','FSC%','Ton-miles','FSC Retention']]\n",
    "df_fc_1=df_fc[['PICKUP_DATE','SHPMT_CNT','WGT','NET_REV','NET_REV_NET_FSC','LoH','FSC%','Ton-miles','FSC Retention']]\n",
    "\n",
    "#Selecting only non-blank goal and forecasting data\n",
    "df_bud_1.dropna(subset=['SHPMT_CNT'], inplace=True)\n",
    "df_fc_1.dropna(subset=['SHPMT_CNT'], inplace=True)\n",
    "\n",
    "#Remove last 2 columns which has aggregated values\n",
    "df_bud_2=df_bud_1.iloc[:(len(df_bud_1)-2)]\n",
    "df_fc_2=df_fc_1.iloc[:(len(df_fc_1)-2)]\n",
    "\n",
    "# % Calculation for SIC data of last year\n",
    "df_sic['shipment_count_%']=df_sic['SHIPMENT_COUNT']/sum(df_sic['SHIPMENT_COUNT'])\n",
    "df_sic['net_revenue_%']=df_sic['NET_REVENUE']/sum(df_sic['NET_REVENUE'])\n",
    "df_sic['weight_%']=df_sic['WEIGHT']/sum(df_sic['WEIGHT'])\n",
    "df_sic['net_revenue_less_fsc_%']=df_sic['NET_REVENUE_LESS_FSC']/sum(df_sic['NET_REVENUE_LESS_FSC'])\n",
    "df_sic['length_of_haul_%']=df_sic['LENGTH_OF_HAUL']/(df_sic['LENGTH_OF_HAUL'].mean())\n",
    "\n",
    "#Take only date column from either forecast or goal data\n",
    "df_wrk_day=df_fc_2['PICKUP_DATE']\n",
    "\n",
    "#Repeat working days (23) - number of SIC times (697 times)  - Using Numpy\n",
    "np.tile(np.arange(len(df_sic)), len(df_wrk_day))\n",
    "np.repeat(np.arange(len(df_sic)), len(df_wrk_day))\n",
    "df_sic_2=df_sic.iloc[np.tile(np.arange(len(df_sic)), len(df_wrk_day))]\n",
    "df_sic_2.reset_index(drop=True)\n",
    "\n",
    "#Repeat working days (20) - number of SIC times (693 times) \n",
    "df_wrk_day_rep=df_wrk_day.loc[df_wrk_day.index.repeat(len(df_sic))].reset_index(drop=True)\n",
    "\n",
    "#Add Date column in repeated SIC data\n",
    "df_sic_2['PICKUP_DATE']=df_wrk_day_rep.values\n",
    "\n",
    "#Modify Date columns of Bud and FC data\n",
    "df_fc_2['PICKUP_DATE']=df_fc_2['PICKUP_DATE'].astype(str)\n",
    "df_bud_2['PICKUP_DATE']=df_bud_2['PICKUP_DATE'].astype(str)\n",
    "\n",
    "#df_fc_2['PICKUP_DATE'].dtypes\n",
    "df_fc_2['PICKUP_DATE'].value_counts()\n",
    "\n",
    "#df_fc_2['PICKUP_DATE'].strftime()\n",
    "df_sic_2['PICKUP_DATE']=df_sic_2['PICKUP_DATE'].astype(str)\n",
    "df_sic_2['PICKUP_DATE'].dtypes\n",
    "df_sic_2['PICKUP_DATE']=df_sic_2['PICKUP_DATE']+[' 00:00:00']\n",
    "\n",
    "#Left Join repeated SIC Data with Bud and FC data\n",
    "df_fc_final=df_sic_2.merge(df_fc_2, on='PICKUP_DATE', how='left')\n",
    "df_bud_final=df_sic_2.merge(df_bud_2, on='PICKUP_DATE', how='left')\n",
    "\n",
    "#Calculate final columns with relevant column headers\n",
    "df_fc_final['OutboundRevenueShipmentsForecast']=(df_fc_final['shipment_count_%']*df_fc_final['SHPMT_CNT'])\n",
    "df_fc_final['OutboundRevenueWeightForecast']=(df_fc_final['weight_%']*df_fc_final['WGT'])\n",
    "df_fc_final['OutboundRevenueForecast']=(df_fc_final['net_revenue_%']*df_fc_final['NET_REV'])\n",
    "df_fc_final['OutboundRevenueLessFSCForecast']=(df_fc_final['net_revenue_less_fsc_%']*df_fc_final['NET_REV_NET_FSC'])\n",
    "df_fc_final['OutboundRevenueLengthofHaulForecast']=(df_fc_final['length_of_haul_%']*df_fc_final['LoH'])\n",
    "\n",
    "df_bud_final['OutboundRevenueShipments']=round((df_bud_final['shipment_count_%']*df_bud_final['SHPMT_CNT']),2)\n",
    "#df_bud_final['OutboundRevenueWeight']=round((df_bud_final['weight_%']*df_bud_final['WGT']),5)\n",
    "#df_bud_final['OutboundRevenue']=round((df_bud_final['net_revenue_%']*df_bud_final['NET_REV']),2)\n",
    "#df_bud_final['OutboundRevenueLessFSC']=round((df_bud_final['net_revenue_less_fsc_%']*df_bud_final['NET_REV_NET_FSC']),2)\n",
    "df_bud_final['OutboundRevenueLengthofHaul']=round((df_bud_final['length_of_haul_%']*df_bud_final['LoH']),2)\n",
    "\n",
    "#Selecting only relevant columns\n",
    "df_fc_final_1=df_fc_final[['REF_SIC_CD','PICKUP_DATE','OutboundRevenueShipmentsForecast']]\n",
    "df_fc_final_1.columns = [*df_fc_final_1.columns[:-1], 'GOAL_VAL_QTY']\n",
    "df_fc_final_1['GOAL_MTRC_CD']='OutboundRevenueShipmentsForecast'\n",
    "df_fc_final_2=df_fc_final[['REF_SIC_CD','PICKUP_DATE','OutboundRevenueWeightForecast']]\n",
    "df_fc_final_2.columns = [*df_fc_final_2.columns[:-1], 'GOAL_VAL_QTY']\n",
    "df_fc_final_2['GOAL_MTRC_CD']='OutboundRevenueWeightForecast'\n",
    "df_fc_final_3=df_fc_final[['REF_SIC_CD','PICKUP_DATE','OutboundRevenueForecast']]\n",
    "df_fc_final_3.columns = [*df_fc_final_3.columns[:-1], 'GOAL_VAL_QTY']\n",
    "df_fc_final_3['GOAL_MTRC_CD']='OutboundRevenueForecast'\n",
    "df_fc_final_4=df_fc_final[['REF_SIC_CD','PICKUP_DATE','OutboundRevenueLessFSCForecast']]\n",
    "df_fc_final_4.columns = [*df_fc_final_4.columns[:-1], 'GOAL_VAL_QTY']\n",
    "df_fc_final_4['GOAL_MTRC_CD']='OutboundRevenueLessFSCForecast'\n",
    "df_fc_final_5=df_fc_final[['REF_SIC_CD','PICKUP_DATE','OutboundRevenueLengthofHaulForecast']]\n",
    "df_fc_final_5.columns = [*df_fc_final_5.columns[:-1], 'GOAL_VAL_QTY']\n",
    "df_fc_final_5['GOAL_MTRC_CD']='OutboundRevenueLengthofHaulForecast'\n",
    "\n",
    "df_bud_final_1=df_bud_final[['REF_SIC_CD','PICKUP_DATE','OutboundRevenueShipments']]\n",
    "df_bud_final_1.columns = [*df_bud_final_1.columns[:-1], 'GOAL_VAL_QTY']\n",
    "df_bud_final_1['GOAL_MTRC_CD']='OutboundRevenueShipments'\n",
    "#df_bud_final_2=df_bud_final[['REF_SIC_CD','PICKUP_DATE','OutboundRevenueWeight']]\n",
    "#df_bud_final_2.columns = [*df_bud_final_2.columns[:-1], 'GOAL_VAL_QTY']\n",
    "#df_bud_final_2['GOAL_MTRC_CD']='OutboundRevenueWeight'\n",
    "#df_bud_final_3=df_bud_final[['REF_SIC_CD','PICKUP_DATE','OutboundRevenue']]\n",
    "#df_bud_final_3.columns = [*df_bud_final_3.columns[:-1], 'GOAL_VAL_QTY']\n",
    "#df_bud_final_3['GOAL_MTRC_CD']='OutboundRevenue'\n",
    "#df_bud_final_4=df_bud_final[['REF_SIC_CD','PICKUP_DATE','OutboundRevenueLessFSC']]\n",
    "#df_bud_final_4.columns = [*df_bud_final_4.columns[:-1], 'GOAL_VAL_QTY']\n",
    "#df_bud_final_4['GOAL_MTRC_CD']='OutboundRevenueLessFSC'\n",
    "df_bud_final_5=df_bud_final[['REF_SIC_CD','PICKUP_DATE','OutboundRevenueLengthofHaul']]\n",
    "df_bud_final_5.columns = [*df_bud_final_5.columns[:-1], 'GOAL_VAL_QTY']\n",
    "df_bud_final_5['GOAL_MTRC_CD']='OutboundRevenueLengthofHaul'\n",
    "\n",
    "#Put all columns under one column header as 'GOAL_VAL_QTY'\n",
    "df_fc_final_6=df_fc_final_1.append(df_fc_final_2)\n",
    "df_fc_final_7=df_fc_final_6.append(df_fc_final_3)\n",
    "df_fc_final_8=df_fc_final_7.append(df_fc_final_4)\n",
    "df_fc_final_9=df_fc_final_8.append(df_fc_final_5)\n",
    "df_fc_final_9['GOAL_REF_LVL_CD']='SICTMZ'\n",
    "\n",
    "\n",
    "df_bud_final_9=df_bud_final_1.append(df_bud_final_5)\n",
    "#df_bud_final_7=df_bud_final_6.append(df_bud_final_3)\n",
    "#df_bud_final_8=df_bud_final_7.append(df_bud_final_4)\n",
    "#df_bud_final_9=df_bud_final_8.append(df_bud_final_5)\n",
    "df_bud_final_9['GOAL_REF_LVL_CD']='SICTMZ'\n",
    "\n",
    "#Single File with both Budget and Forecast data\n",
    "df_bud_fc=df_bud_final_9.append(df_fc_final_9)\n",
    "df_bud_fc['WHSE_LST_UPDT_DT']=last_update_date\n",
    "df_bud_fc['WHSE_LST_UPDT_BY']=last_updated_by\n",
    "df_bud_fc['GOAL_VAL_EFF_DT']=df_bud_fc['PICKUP_DATE']\n",
    "df_bud_fc['GOAL_VAL_EXPR_DT']=df_bud_fc['PICKUP_DATE']\n",
    "df_bud_fc['GOAL_CD']=df_bud_fc['REF_SIC_CD']\n",
    "\n",
    "#Renaminng column headers to the standard and rearranging order of columns\n",
    "df_bud_fc_final=df_bud_fc[['GOAL_MTRC_CD','GOAL_REF_LVL_CD','GOAL_CD','GOAL_VAL_EFF_DT','GOAL_VAL_EXPR_DT','GOAL_VAL_QTY',\n",
    "                           'WHSE_LST_UPDT_DT','WHSE_LST_UPDT_BY']]\n",
    "warnings.filterwarnings('ignore')"
   ]
  },
  {
   "cell_type": "code",
   "execution_count": 9,
   "id": "bc62dca9",
   "metadata": {},
   "outputs": [
    {
     "data": {
      "text/plain": [
       "GOAL_MTRC_CD                object\n",
       "GOAL_REF_LVL_CD             object\n",
       "GOAL_CD                     object\n",
       "GOAL_VAL_EFF_DT     datetime64[ns]\n",
       "GOAL_VAL_EXPR_DT    datetime64[ns]\n",
       "GOAL_VAL_QTY               float64\n",
       "WHSE_LST_UPDT_DT    datetime64[ns]\n",
       "WHSE_LST_UPDT_BY            object\n",
       "dtype: object"
      ]
     },
     "execution_count": 9,
     "metadata": {},
     "output_type": "execute_result"
    }
   ],
   "source": [
    "#Check Datatypes of outputs here and change them in the table schema in next section (Object - String)\n",
    "df_bud_fc_final.dtypes"
   ]
  },
  {
   "cell_type": "code",
   "execution_count": 8,
   "id": "c867cf9b",
   "metadata": {},
   "outputs": [
    {
     "name": "stderr",
     "output_type": "stream",
     "text": [
      "C:\\Users\\mratna\\AppData\\Local\\Temp/ipykernel_1908/2085242117.py:3: SettingWithCopyWarning: \n",
      "A value is trying to be set on a copy of a slice from a DataFrame.\n",
      "Try using .loc[row_indexer,col_indexer] = value instead\n",
      "\n",
      "See the caveats in the documentation: https://pandas.pydata.org/pandas-docs/stable/user_guide/indexing.html#returning-a-view-versus-a-copy\n",
      "  df_bud_fc_final['GOAL_VAL_EFF_DT'] = df_bud_fc_final['GOAL_VAL_EFF_DT'].astype('datetime64[ns]')\n",
      "C:\\Users\\mratna\\AppData\\Local\\Temp/ipykernel_1908/2085242117.py:4: SettingWithCopyWarning: \n",
      "A value is trying to be set on a copy of a slice from a DataFrame.\n",
      "Try using .loc[row_indexer,col_indexer] = value instead\n",
      "\n",
      "See the caveats in the documentation: https://pandas.pydata.org/pandas-docs/stable/user_guide/indexing.html#returning-a-view-versus-a-copy\n",
      "  df_bud_fc_final['GOAL_VAL_EXPR_DT'] = df_bud_fc_final['GOAL_VAL_EXPR_DT'].astype('datetime64[ns]')\n",
      "C:\\Users\\mratna\\AppData\\Local\\Temp/ipykernel_1908/2085242117.py:5: SettingWithCopyWarning: \n",
      "A value is trying to be set on a copy of a slice from a DataFrame.\n",
      "Try using .loc[row_indexer,col_indexer] = value instead\n",
      "\n",
      "See the caveats in the documentation: https://pandas.pydata.org/pandas-docs/stable/user_guide/indexing.html#returning-a-view-versus-a-copy\n",
      "  df_bud_fc_final['WHSE_LST_UPDT_DT'] = df_bud_fc_final['WHSE_LST_UPDT_DT'] .astype('datetime64[ns]')\n"
     ]
    }
   ],
   "source": [
    "#Change daatype of datatypes of \"date time columns\" into datetime64[ns]\n",
    "#If they aren't already\n",
    "df_bud_fc_final['GOAL_VAL_EFF_DT'] = df_bud_fc_final['GOAL_VAL_EFF_DT'].astype('datetime64[ns]')\n",
    "df_bud_fc_final['GOAL_VAL_EXPR_DT'] = df_bud_fc_final['GOAL_VAL_EXPR_DT'].astype('datetime64[ns]')\n",
    "df_bud_fc_final['WHSE_LST_UPDT_DT'] = df_bud_fc_final['WHSE_LST_UPDT_DT'] .astype('datetime64[ns]')"
   ]
  },
  {
   "cell_type": "markdown",
   "id": "99d4d401",
   "metadata": {},
   "source": [
    "# QA Section"
   ]
  },
  {
   "cell_type": "code",
   "execution_count": 10,
   "id": "a1a31a7f",
   "metadata": {},
   "outputs": [
    {
     "name": "stdout",
     "output_type": "stream",
     "text": [
      "331\n",
      "23\n",
      "76130\n"
     ]
    }
   ],
   "source": [
    "#QA Step 1\n",
    "#Total Number of Rows (No of working days in the month * Number of SICs in last year's same month data * Number of Parameters)\n",
    "#(For example, For March 2021, its 23*698*10 (5 for both Budget and Forecast))\n",
    "print(len(df_sic))\n",
    "print(len(df_wrk_day))\n",
    "print(len(df_bud_fc_final)) ## df_fc_final_10 for forecast only #df_bud_fc_final for both budget and forecast"
   ]
  },
  {
   "cell_type": "code",
   "execution_count": 11,
   "id": "09d94986",
   "metadata": {},
   "outputs": [
    {
     "data": {
      "text/html": [
       "<div>\n",
       "<style scoped>\n",
       "    .dataframe tbody tr th:only-of-type {\n",
       "        vertical-align: middle;\n",
       "    }\n",
       "\n",
       "    .dataframe tbody tr th {\n",
       "        vertical-align: top;\n",
       "    }\n",
       "\n",
       "    .dataframe thead th {\n",
       "        text-align: right;\n",
       "    }\n",
       "</style>\n",
       "<table border=\"1\" class=\"dataframe\">\n",
       "  <thead>\n",
       "    <tr style=\"text-align: right;\">\n",
       "      <th></th>\n",
       "      <th>GOAL_VAL_QTY</th>\n",
       "    </tr>\n",
       "    <tr>\n",
       "      <th>GOAL_MTRC_CD</th>\n",
       "      <th></th>\n",
       "    </tr>\n",
       "  </thead>\n",
       "  <tbody>\n",
       "    <tr>\n",
       "      <th>OutboundRevenue</th>\n",
       "      <td>426305580.90</td>\n",
       "    </tr>\n",
       "    <tr>\n",
       "      <th>OutboundRevenueForecast</th>\n",
       "      <td>419394823.00</td>\n",
       "    </tr>\n",
       "    <tr>\n",
       "      <th>OutboundRevenueLengthofHaul</th>\n",
       "      <td>6429914.17</td>\n",
       "    </tr>\n",
       "    <tr>\n",
       "      <th>OutboundRevenueLengthofHaulForecast</th>\n",
       "      <td>6369275.07</td>\n",
       "    </tr>\n",
       "    <tr>\n",
       "      <th>OutboundRevenueLessFSC</th>\n",
       "      <td>365518878.33</td>\n",
       "    </tr>\n",
       "    <tr>\n",
       "      <th>OutboundRevenueLessFSCForecast</th>\n",
       "      <td>332648429.00</td>\n",
       "    </tr>\n",
       "    <tr>\n",
       "      <th>OutboundRevenueShipments</th>\n",
       "      <td>1199131.92</td>\n",
       "    </tr>\n",
       "    <tr>\n",
       "      <th>OutboundRevenueShipmentsForecast</th>\n",
       "      <td>1094823.00</td>\n",
       "    </tr>\n",
       "    <tr>\n",
       "      <th>OutboundRevenueWeight</th>\n",
       "      <td>16828678.00</td>\n",
       "    </tr>\n",
       "    <tr>\n",
       "      <th>OutboundRevenueWeightForecast</th>\n",
       "      <td>15436122.00</td>\n",
       "    </tr>\n",
       "  </tbody>\n",
       "</table>\n",
       "</div>"
      ],
      "text/plain": [
       "                                     GOAL_VAL_QTY\n",
       "GOAL_MTRC_CD                                     \n",
       "OutboundRevenue                      426305580.90\n",
       "OutboundRevenueForecast              419394823.00\n",
       "OutboundRevenueLengthofHaul            6429914.17\n",
       "OutboundRevenueLengthofHaulForecast    6369275.07\n",
       "OutboundRevenueLessFSC               365518878.33\n",
       "OutboundRevenueLessFSCForecast       332648429.00\n",
       "OutboundRevenueShipments               1199131.92\n",
       "OutboundRevenueShipmentsForecast       1094823.00\n",
       "OutboundRevenueWeight                 16828678.00\n",
       "OutboundRevenueWeightForecast         15436122.00"
      ]
     },
     "execution_count": 11,
     "metadata": {},
     "output_type": "execute_result"
    }
   ],
   "source": [
    "#QA Step 2\n",
    "#Sum of all parameters columns\n",
    "table = pd.DataFrame(pd.pivot_table(df_bud_fc_final, values='GOAL_VAL_QTY', index=['GOAL_MTRC_CD'],aggfunc=np.sum))\n",
    "pd.set_option('display.float_format', lambda x: '%.2f' % x)\n",
    "table"
   ]
  },
  {
   "cell_type": "code",
   "execution_count": 13,
   "id": "05580e5d",
   "metadata": {},
   "outputs": [
    {
     "data": {
      "text/html": [
       "<div>\n",
       "<style scoped>\n",
       "    .dataframe tbody tr th:only-of-type {\n",
       "        vertical-align: middle;\n",
       "    }\n",
       "\n",
       "    .dataframe tbody tr th {\n",
       "        vertical-align: top;\n",
       "    }\n",
       "\n",
       "    .dataframe thead th {\n",
       "        text-align: right;\n",
       "    }\n",
       "</style>\n",
       "<table border=\"1\" class=\"dataframe\">\n",
       "  <thead>\n",
       "    <tr style=\"text-align: right;\">\n",
       "      <th></th>\n",
       "      <th>GOAL_VAL_QTY</th>\n",
       "    </tr>\n",
       "    <tr>\n",
       "      <th>GOAL_MTRC_CD</th>\n",
       "      <th></th>\n",
       "    </tr>\n",
       "  </thead>\n",
       "  <tbody>\n",
       "    <tr>\n",
       "      <th>OutboundRevenue</th>\n",
       "      <td>55997.06</td>\n",
       "    </tr>\n",
       "    <tr>\n",
       "      <th>OutboundRevenueForecast</th>\n",
       "      <td>55089.30</td>\n",
       "    </tr>\n",
       "    <tr>\n",
       "      <th>OutboundRevenueLengthofHaul</th>\n",
       "      <td>844.60</td>\n",
       "    </tr>\n",
       "    <tr>\n",
       "      <th>OutboundRevenueLengthofHaulForecast</th>\n",
       "      <td>836.63</td>\n",
       "    </tr>\n",
       "    <tr>\n",
       "      <th>OutboundRevenueLessFSC</th>\n",
       "      <td>48012.46</td>\n",
       "    </tr>\n",
       "    <tr>\n",
       "      <th>OutboundRevenueLessFSCForecast</th>\n",
       "      <td>43694.79</td>\n",
       "    </tr>\n",
       "    <tr>\n",
       "      <th>OutboundRevenueShipments</th>\n",
       "      <td>157.51</td>\n",
       "    </tr>\n",
       "    <tr>\n",
       "      <th>OutboundRevenueShipmentsForecast</th>\n",
       "      <td>143.81</td>\n",
       "    </tr>\n",
       "    <tr>\n",
       "      <th>OutboundRevenueWeight</th>\n",
       "      <td>2210.52</td>\n",
       "    </tr>\n",
       "    <tr>\n",
       "      <th>OutboundRevenueWeightForecast</th>\n",
       "      <td>2027.60</td>\n",
       "    </tr>\n",
       "  </tbody>\n",
       "</table>\n",
       "</div>"
      ],
      "text/plain": [
       "                                     GOAL_VAL_QTY\n",
       "GOAL_MTRC_CD                                     \n",
       "OutboundRevenue                          55997.06\n",
       "OutboundRevenueForecast                  55089.30\n",
       "OutboundRevenueLengthofHaul                844.60\n",
       "OutboundRevenueLengthofHaulForecast        836.63\n",
       "OutboundRevenueLessFSC                   48012.46\n",
       "OutboundRevenueLessFSCForecast           43694.79\n",
       "OutboundRevenueShipments                   157.51\n",
       "OutboundRevenueShipmentsForecast           143.81\n",
       "OutboundRevenueWeight                     2210.52\n",
       "OutboundRevenueWeightForecast             2027.60"
      ]
     },
     "execution_count": 13,
     "metadata": {},
     "output_type": "execute_result"
    }
   ],
   "source": [
    "#QA Step 3\n",
    "#Check Average of LOH columns\n",
    "table = pd.DataFrame(pd.pivot_table(df_bud_fc_final, values='GOAL_VAL_QTY', index=['GOAL_MTRC_CD'],aggfunc=np.average))\n",
    "pd.set_option('display.float_format', lambda x: '%.2f' % x)\n",
    "table"
   ]
  },
  {
   "cell_type": "code",
   "execution_count": null,
   "id": "23e3a2cf",
   "metadata": {},
   "outputs": [],
   "source": [
    "#Checkout a few rows and columns\n",
    "df_bud_fc_final.head()"
   ]
  },
  {
   "cell_type": "code",
   "execution_count": 14,
   "id": "605d3ff6",
   "metadata": {},
   "outputs": [],
   "source": [
    "#Save output as csv to QA\n",
    "df_bud_fc_final.to_csv(r'C:\\Users\\mratna\\Documents\\XPO\\Finance\\Goal_forecasting\\Aug-22\\V1\\Traditional_Aug-22_Goal_Loader.csv')\n",
    "#df_sic.to_csv(r'C:\\Users\\mratna\\Documents\\XPO\\Finance\\Goal_forecasting\\Jun-22\\V1\\PY_SIC.csv')"
   ]
  },
  {
   "cell_type": "code",
   "execution_count": null,
   "id": "e9283f98",
   "metadata": {},
   "outputs": [],
   "source": [
    "df_bud_fc_final=pd.read_excel(r'C:\\Users\\mratna\\Documents\\XPO\\Finance\\Goal_forecasting\\Aug-22\\V1\\Aug-22-Finance-Goal-Loading_V1.xlsx',sheet_name='Sheet1')"
   ]
  },
  {
   "cell_type": "code",
   "execution_count": null,
   "id": "cefcfa0c",
   "metadata": {},
   "outputs": [],
   "source": [
    "df_bud_fc_final['GOAL_VAL_EFF_DT'] = df_bud_fc_final['GOAL_VAL_EFF_DT'].astype('datetime64[ns]')\n",
    "df_bud_fc_final['GOAL_VAL_EXPR_DT'] = df_bud_fc_final['GOAL_VAL_EXPR_DT'].astype('datetime64[ns]')\n",
    "df_bud_fc_final['WHSE_LST_UPDT_DT'] = df_bud_fc_final['WHSE_LST_UPDT_DT'] .astype('datetime64[ns]')\n",
    "df_bud_fc_final.dtypes"
   ]
  },
  {
   "cell_type": "markdown",
   "id": "ac497488",
   "metadata": {},
   "source": [
    "# Uploading Budget and Forecast Output to Already existing GBQ Sandbox"
   ]
  },
  {
   "cell_type": "code",
   "execution_count": null,
   "id": "5eacaa11",
   "metadata": {},
   "outputs": [],
   "source": [
    "#Update table schema as per the output of previous section. We have already defined table schema in GBQ, so it won't matter\n",
    "df_bud_fc_final.to_gbq(\n",
    "    destination_table='ltl-prd-data-user.SANDBOX.fin_bud_fc_apr',\n",
    "    table_schema=[\n",
    "        {'name': 'GOAL_MTRC_CD','type': 'STRING'},\n",
    "        {'name': 'GOAL_REF_LVL_CD','type': 'STRING'},\n",
    "        {'name': 'GOAL_CD','type': 'STRING'},\n",
    "        {'name': 'GOAL_VAL_EFF_DT','type': 'DATETIME'},\n",
    "        {'name': 'GOAL_VAL_EXPR_DT','type': 'DATETIME'},\n",
    "        {'name': 'GOAL_VAL_QTY','type': 'FLOAT'},\n",
    "        {'name': 'WHSE_LST_UPDT_DT','type': 'DATETIME'},\n",
    "        {'name': 'WHSE_LST_UPDT_BY','type': 'STRING'}\n",
    "    ],\n",
    "    project_id='ltl-prd-data-user',\n",
    "    if_exists='replace'\n",
    ")"
   ]
  },
  {
   "cell_type": "markdown",
   "id": "3258fa5a",
   "metadata": {},
   "source": [
    "# Section for Forecast Only (As its updated multiple time within same month)\n",
    "\n",
    "# Select Forecast Excel file"
   ]
  },
  {
   "cell_type": "code",
   "execution_count": null,
   "id": "83f1e4d0",
   "metadata": {},
   "outputs": [],
   "source": [
    "#Select Forecast Excel file\n",
    "from ipyfilechooser import FileChooser\n",
    "\n",
    "BudgetFinanceExcelFile = FileChooser('c://users//')\n",
    "BudgetFinanceExcelFile.title = '<b> Choose the File that contains Forecast  details: </b>'\n",
    "BudgetFinanceExcelFile.use_dir_icons = True\n",
    "display(BudgetFinanceExcelFile)"
   ]
  },
  {
   "cell_type": "code",
   "execution_count": null,
   "id": "b630f885",
   "metadata": {},
   "outputs": [],
   "source": [
    "#Reading Forecast data\n",
    "#Assuming there are 2 worksheets in the Excel and 2nd one is for Forecast\n",
    "BudgetFinanceExcelFile     = BudgetFinanceExcelFile.selected.replace(\"\\\\\", \"\\\\\\\\\")\n",
    "df_fc = pd.read_excel(BudgetFinanceExcelFile, sheet_name=1, header=0) "
   ]
  },
  {
   "cell_type": "code",
   "execution_count": null,
   "id": "021432bb",
   "metadata": {},
   "outputs": [],
   "source": [
    "#Get Date value for last update date column\n",
    "last_update_date= input('Enter today\"s date in YYYY-MM-DD format: ') #2022-04-01 00:00:00\n",
    "last_updated_by= input('Enter your name: ')  #mr"
   ]
  },
  {
   "cell_type": "code",
   "execution_count": null,
   "id": "7004b150",
   "metadata": {},
   "outputs": [],
   "source": [
    "#Selecting only relevant columns from Goal and Forecasting data\n",
    "df_fc_1=df_fc[['PICKUP_DATE','SHPMT_CNT','WGT','NET_REV','NET_REV_NET_FSC','LoH','FSC%','Ton-miles','FSC Retention']]\n",
    "    \n",
    "#Selecting only non-blank goal and forecasting data\n",
    "df_fc_1.dropna(subset=['SHPMT_CNT'], inplace=True)\n",
    "    \n",
    "#Remove last 2 columns which has aggregated values\n",
    "df_fc_2=df_fc_1.iloc[:(len(df_fc_1)-2)]\n",
    "    \n",
    "# % Calculation for SIC data of last year\n",
    "df_sic['shipment_count_%']=df_sic['SHIPMENT_COUNT']/sum(df_sic['SHIPMENT_COUNT'])\n",
    "df_sic['net_revenue_%']=df_sic['NET_REVENUE']/sum(df_sic['NET_REVENUE'])\n",
    "df_sic['weight_%']=df_sic['WEIGHT']/sum(df_sic['WEIGHT'])\n",
    "df_sic['net_revenue_less_fsc_%']=df_sic['NET_REVENUE_LESS_FSC']/sum(df_sic['NET_REVENUE_LESS_FSC'])\n",
    "df_sic['length_of_haul_%']=df_sic['LENGTH_OF_HAUL']/(df_sic['LENGTH_OF_HAUL'].mean())\n",
    "    \n",
    "#Take only date column from either forecast or goal data\n",
    "df_wrk_day=df_fc_2['PICKUP_DATE']\n",
    "    \n",
    "#Repeat working days (20) - number of SIC times (693 times)  - Using Numpy\n",
    "np.tile(np.arange(len(df_sic)), len(df_wrk_day))\n",
    "np.repeat(np.arange(len(df_sic)), len(df_wrk_day))\n",
    "df_sic_2=df_sic.iloc[np.tile(np.arange(len(df_sic)), len(df_wrk_day))]\n",
    "df_sic_2.reset_index(drop=True)\n",
    "    \n",
    "#Repeat working days (For example, 20) - number of SIC times (For example, 693 times) \n",
    "df_wrk_day_rep=df_wrk_day.loc[df_wrk_day.index.repeat(len(df_sic))].reset_index(drop=True)\n",
    "    \n",
    "#Add Date column in repeated SIC data\n",
    "df_sic_2['PICKUP_DATE']=df_wrk_day_rep.values\n",
    "    \n",
    "#Modify Date columns of Bud and FC data\n",
    "df_fc_2['PICKUP_DATE']=df_fc_2['PICKUP_DATE'].astype(str)\n",
    "df_sic_2['PICKUP_DATE']=df_sic_2['PICKUP_DATE'].astype(str)\n",
    "df_sic_2['PICKUP_DATE']=df_sic_2['PICKUP_DATE']+[' 00:00:00']\n",
    "    \n",
    "#Left Join repeated SIC Data with Bud and FC data\n",
    "df_fc_final=df_sic_2.merge(df_fc_2, on='PICKUP_DATE', how='left')\n",
    "    \n",
    "#Calculate final columns with relevant column headers\n",
    "df_fc_final['OutboundRevenueShipmentsForecast']=(df_fc_final['shipment_count_%']*df_fc_final['SHPMT_CNT'])\n",
    "df_fc_final['OutboundRevenueWeightForecast']=(df_fc_final['weight_%']*df_fc_final['WGT'])\n",
    "df_fc_final['OutboundRevenueForecast']=(df_fc_final['net_revenue_%']*df_fc_final['NET_REV'])\n",
    "df_fc_final['OutboundRevenueLessFSCForecast']=(df_fc_final['net_revenue_less_fsc_%']*df_fc_final['NET_REV_NET_FSC'])\n",
    "df_fc_final['OutboundRevenueLengthofHaulForecast']=(df_fc_final['length_of_haul_%']*df_fc_final['LoH'])\n",
    "    \n",
    "#Selecting only relevant columns\n",
    "df_fc_final_1=df_fc_final[['REF_SIC_CD','PICKUP_DATE','OutboundRevenueShipmentsForecast']]\n",
    "df_fc_final_1.columns = [*df_fc_final_1.columns[:-1], 'GOAL_VAL_QTY']\n",
    "df_fc_final_1['GOAL_MTRC_CD']='OutboundRevenueShipmentsForecast'\n",
    "df_fc_final_2=df_fc_final[['REF_SIC_CD','PICKUP_DATE','OutboundRevenueWeightForecast']]\n",
    "df_fc_final_2.columns = [*df_fc_final_2.columns[:-1], 'GOAL_VAL_QTY']\n",
    "df_fc_final_2['GOAL_MTRC_CD']='OutboundRevenueWeightForecast'\n",
    "df_fc_final_3=df_fc_final[['REF_SIC_CD','PICKUP_DATE','OutboundRevenueForecast']]\n",
    "df_fc_final_3.columns = [*df_fc_final_3.columns[:-1], 'GOAL_VAL_QTY']\n",
    "df_fc_final_3['GOAL_MTRC_CD']='OutboundRevenueForecast'\n",
    "df_fc_final_4=df_fc_final[['REF_SIC_CD','PICKUP_DATE','OutboundRevenueLessFSCForecast']]\n",
    "df_fc_final_4.columns = [*df_fc_final_4.columns[:-1], 'GOAL_VAL_QTY']\n",
    "df_fc_final_4['GOAL_MTRC_CD']='OutboundRevenueLessFSCForecast'\n",
    "df_fc_final_5=df_fc_final[['REF_SIC_CD','PICKUP_DATE','OutboundRevenueLengthofHaulForecast']]\n",
    "df_fc_final_5.columns = [*df_fc_final_5.columns[:-1], 'GOAL_VAL_QTY']\n",
    "df_fc_final_5['GOAL_MTRC_CD']='OutboundRevenueLengthofHaulForecast'\n",
    "    \n",
    "#Put all columns under one column header as 'GOAL_VAL_QTY'\n",
    "df_fc_final_6=df_fc_final_1.append(df_fc_final_2)\n",
    "df_fc_final_7=df_fc_final_6.append(df_fc_final_3)\n",
    "df_fc_final_8=df_fc_final_7.append(df_fc_final_4)\n",
    "df_fc_final_9=df_fc_final_8.append(df_fc_final_5)\n",
    "df_fc_final_9['GOAL_REF_LVL_CD']='SICTMZ'\n",
    "df_fc_final_9['WHSE_LST_UPDT_DT']=last_update_date\n",
    "df_fc_final_9['WHSE_LST_UPDT_BY']=last_updated_by\n",
    "df_fc_final_9['GOAL_VAL_EFF_DT']=df_fc_final_9['PICKUP_DATE']\n",
    "df_fc_final_9['GOAL_VAL_EXPR_DT']=df_fc_final_9['PICKUP_DATE']\n",
    "df_fc_final_9['GOAL_CD']=df_fc_final_9['REF_SIC_CD']\n",
    "    \n",
    "#Renaminng column headers to the standard and rearranging order of columns\n",
    "df_fc_final_10=df_fc_final_9[['GOAL_MTRC_CD','GOAL_REF_LVL_CD','GOAL_CD','GOAL_VAL_EFF_DT','GOAL_VAL_EXPR_DT','GOAL_VAL_QTY',\n",
    "                               'WHSE_LST_UPDT_DT','WHSE_LST_UPDT_BY']]"
   ]
  },
  {
   "cell_type": "code",
   "execution_count": null,
   "id": "14704fe5",
   "metadata": {},
   "outputs": [],
   "source": [
    "#Check Datatypes of outputs here and change them in the table schema in next section (Object - String)\n",
    "df_fc_final_10.dtypes"
   ]
  },
  {
   "cell_type": "code",
   "execution_count": null,
   "id": "e553e099",
   "metadata": {},
   "outputs": [],
   "source": [
    "#Change daatype of datatypes of \"date time columns\" into datetime64[ns]\n",
    "#If they aren't already\n",
    "df_fc_final_10['GOAL_VAL_EFF_DT'] = df_fc_final_10['GOAL_VAL_EFF_DT'].astype('datetime64[ns]')\n",
    "df_fc_final_10['GOAL_VAL_EXPR_DT'] = df_fc_final_10['GOAL_VAL_EXPR_DT'].astype('datetime64[ns]')\n",
    "df_fc_final_10['WHSE_LST_UPDT_DT'] = df_fc_final_10['WHSE_LST_UPDT_DT'] .astype('datetime64[ns]')"
   ]
  },
  {
   "cell_type": "markdown",
   "id": "132e9acd",
   "metadata": {},
   "source": [
    "# Uploading Forecast Output to Already existing GBQ Sandbox"
   ]
  },
  {
   "cell_type": "code",
   "execution_count": null,
   "id": "7bd6fc97",
   "metadata": {},
   "outputs": [],
   "source": [
    "#Update table schema as per the output of previous section. We have already defined table schema in GBQ, so it won't matter\n",
    "df_fc_final_10.to_gbq(\n",
    "    destination_table='ltl-prd-data-user.SANDBOX.Fin_Bud_FC_Test',\n",
    "    table_schema=[\n",
    "        {'name': 'GOAL_MTRC_CD','type': 'STRING'},\n",
    "        {'name': 'GOAL_REF_LVL_CD','type': 'STRING'},\n",
    "        {'name': 'GOAL_CD','type': 'STRING'},\n",
    "        {'name': 'GOAL_VAL_EFF_DT','type': 'DATETIME'},\n",
    "        {'name': 'GOAL_VAL_EXPR_DT','type': 'DATETIME'},\n",
    "        {'name': 'GOAL_VAL_QTY','type': 'FLOAT'},\n",
    "        {'name': 'WHSE_LST_UPDT_DT','type': 'DATETIME'},\n",
    "        {'name': 'WHSE_LST_UPDT_BY','type': 'STRING'}\n",
    "    ],\n",
    "    project_id='ltl-prd-data-user',\n",
    "    if_exists='replace'\n",
    ")"
   ]
  },
  {
   "cell_type": "markdown",
   "id": "441aee29",
   "metadata": {},
   "source": [
    "# QA Section"
   ]
  },
  {
   "cell_type": "code",
   "execution_count": null,
   "id": "25ae8d0e",
   "metadata": {},
   "outputs": [],
   "source": [
    "#QA Step 1\n",
    "#Total Number of Rows (No of working days in the month * Number of SICs in last year's same month data * Number of Parameters)\n",
    "#(For example, For March 2021, its 23*698*10 (5 for both Budget and Forecast))\n",
    "print(len(df_sic))\n",
    "print(len(df_wrk_day))\n",
    "print(len(df_fc_final_10)) ## df_fc_final_10 for forecast only #df_bud_fc_final for both budget and forecast"
   ]
  },
  {
   "cell_type": "code",
   "execution_count": null,
   "id": "caf4ede3",
   "metadata": {},
   "outputs": [],
   "source": [
    "#QA Step 2\n",
    "#Sum of all parameters columns\n",
    "table = pd.DataFrame(pd.pivot_table(df_fc_final_10, values='GOAL_VAL_QTY', index=['GOAL_MTRC_CD'],aggfunc=np.sum)) \n",
    "#average for Lenght Of Haul\n",
    "pd.set_option('display.float_format', lambda x: '%.2f' % x)\n",
    "table"
   ]
  },
  {
   "cell_type": "code",
   "execution_count": null,
   "id": "c679ab33",
   "metadata": {},
   "outputs": [],
   "source": [
    "#QA Step 3\n",
    "#Check Average of LOH columns\n",
    "table = pd.DataFrame(pd.pivot_table(df_fc_final_10, values='GOAL_VAL_QTY', index=['GOAL_MTRC_CD'],aggfunc=np.average))\n",
    "pd.set_option('display.float_format', lambda x: '%.2f' % x)\n",
    "table"
   ]
  },
  {
   "cell_type": "code",
   "execution_count": null,
   "id": "cfbfeca5",
   "metadata": {},
   "outputs": [],
   "source": [
    "#QA Step 4\n",
    "#Check few rows\n",
    "df_fc_final_10.head()"
   ]
  },
  {
   "cell_type": "code",
   "execution_count": null,
   "id": "6cbc48e5",
   "metadata": {},
   "outputs": [],
   "source": [
    "#Save output as csv to QA\n",
    "df_fc_final_10.to_csv(r'C:\\Users\\mratna\\Documents\\XPO\\Finance\\Goal_forecasting\\July-22\\V1\\Jun_22_Goal_Loader_V1_Forecast_Final.csv')\n",
    "df_sic.to_csv(r'C:\\Users\\mratna\\Documents\\XPO\\Finance\\Goal_forecasting\\July-22\\V1\\Jun_21_SIC_Final.csv')"
   ]
  },
  {
   "cell_type": "code",
   "execution_count": 12,
   "id": "4f0f3441",
   "metadata": {},
   "outputs": [],
   "source": [
    "df_sic.to_csv(r'C:\\Users\\mratna\\Documents\\XPO\\Finance\\Goal_forecasting\\Aug-22\\V1\\Aug_21_SIC_V2.csv')"
   ]
  },
  {
   "cell_type": "code",
   "execution_count": null,
   "id": "224290c3",
   "metadata": {},
   "outputs": [],
   "source": []
  }
 ],
 "metadata": {
  "celltoolbar": "Raw Cell Format",
  "kernelspec": {
   "display_name": "Python 3 (ipykernel)",
   "language": "python",
   "name": "python3"
  },
  "language_info": {
   "codemirror_mode": {
    "name": "ipython",
    "version": 3
   },
   "file_extension": ".py",
   "mimetype": "text/x-python",
   "name": "python",
   "nbconvert_exporter": "python",
   "pygments_lexer": "ipython3",
   "version": "3.8.8"
  }
 },
 "nbformat": 4,
 "nbformat_minor": 5
}
