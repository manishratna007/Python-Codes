{
 "cells": [
  {
   "cell_type": "markdown",
   "metadata": {},
   "source": [
    "# Initial Set-up to perform Looker-sdk tasks"
   ]
  },
  {
   "cell_type": "markdown",
   "metadata": {
    "heading_collapsed": true
   },
   "source": [
    "## <font color=\"rgb(250, 128, 114)\"> Execute the cell to install the following packages if they were not installed already </font>\n",
    "<p>\n",
    "    <ul>\n",
    "        <li> <span style=\"font-family:Comic Sans MS\"> <font color=\"blue\"> <i> ipyfilechooser </i> </font> </span> </li>\n",
    "        <li> <span style=\"font-family:Comic Sans MS\"> <font color=\"blue\"> <i> looker-sdk </i> </font> </span> </li>\n",
    "     </ul>\n",
    "</p>"
   ]
  },
  {
   "cell_type": "code",
   "execution_count": 1,
   "metadata": {
    "code_folding": [],
    "hidden": true,
    "scrolled": false
   },
   "outputs": [
    {
     "data": {
      "application/vnd.jupyter.widget-view+json": {
       "model_id": "3d3bc01c4cd047b49bb61473e0259554",
       "version_major": 2,
       "version_minor": 0
      },
      "text/plain": [
       "Button(description='Install Packages', style=ButtonStyle())"
      ]
     },
     "metadata": {},
     "output_type": "display_data"
    },
    {
     "data": {
      "application/vnd.jupyter.widget-view+json": {
       "model_id": "729e6c2b7b7141849ebe7308833bf5bc",
       "version_major": 2,
       "version_minor": 0
      },
      "text/plain": [
       "Output()"
      ]
     },
     "metadata": {},
     "output_type": "display_data"
    }
   ],
   "source": [
    "import ipywidgets as widgets\n",
    "\n",
    "button = widgets.Button(description=\"Install Packages\")\n",
    "output = widgets.Output()\n",
    "\n",
    "display(button, output)\n",
    "\n",
    "def on_button_clicked(b):\n",
    "    with output:\n",
    "        !pip install ipyfilechooser\n",
    "        !pip install looker-sdk\n",
    "\n",
    "button.on_click(on_button_clicked)"
   ]
  },
  {
   "cell_type": "markdown",
   "metadata": {
    "hidden": true
   },
   "source": [
    "<h2> <font color=\"rgb(250, 128, 114)\"> Create two looker.ini files </font> </h2>\n",
    "<h3> <font color=\"blue\"> with SubsLookerPrd key and   </font> </h3>\n",
    "<h3> <font color=\"blue\"> with Admin key               </font> </h3>\n",
    "<h3> <font color=\"blue\"> Sample \"looker.ini\" details: </font> </h3>\n",
    "<blockquote><p> </font> </p>\n",
    "\n",
    "<blockquote>\n",
    "<p> <b> <span style=\"font-family:Courier New\">\n",
    "[Looker]<br>\n",
    "base_url=https://xpologisticsdev.cloud.looker.com:443<br>\n",
    "client_id=<font color=\"blue\">your Client ID</font><br>\n",
    "client_secret=<font color=\"blue\">your Client Secret ID</font><br>\n",
    "verify_ssl=True<br>\n",
    "</span> </b></p>\n",
    "</blockquote>\n",
    "</blockquote>"
   ]
  },
  {
   "cell_type": "markdown",
   "metadata": {},
   "source": [
    "# Reassign the Subscriptions to \"SubsLookerPrd\""
   ]
  },
  {
   "cell_type": "markdown",
   "metadata": {},
   "source": [
    "## <font color=\"rgb(250, 128, 114)\"> Execute the below Explore Query link and extract the information in xls: </font>\n",
    "\n",
    "<blockquote> <br>\n",
    "<nav>\n",
    "<a href=\"https://xpologisticsprod.cloud.looker.com/explore/system__activity/scheduled_plan?toggle=fil&qid=UIc2lPPBUCRSjM71BevzIK\"> Scheduled plan extraction from Looker </a>  <strong> => Make sure to adjust the filters appropriately </strong>\n",
    "</nav>\n",
    "<br>\n",
    "<blockquote>\n",
    "    This spreadsheet is then used to Reassign the Scheduled Plan\n",
    "</blockquote>\n",
    "</blockquote>"
   ]
  },
  {
   "cell_type": "markdown",
   "metadata": {},
   "source": [
    "## <font color=\"rgb(250, 128, 114)\"> Choose the Spreadsheet / File that contain the required informtion: </font>"
   ]
  },
  {
   "cell_type": "code",
   "execution_count": 10,
   "metadata": {},
   "outputs": [
    {
     "data": {
      "application/vnd.jupyter.widget-view+json": {
       "model_id": "6a06e67f83164c9aa7ee9407653b02af",
       "version_major": 2,
       "version_minor": 0
      },
      "text/plain": [
       "FileChooser(path='C:\\Users', filename='', title='<b> Choose the File that contains Looker Scheduled Plan detai…"
      ]
     },
     "metadata": {},
     "output_type": "display_data"
    },
    {
     "data": {
      "application/vnd.jupyter.widget-view+json": {
       "model_id": "4c8b54b54d6f479798a6f649ff5f8569",
       "version_major": 2,
       "version_minor": 0
      },
      "text/plain": [
       "FileChooser(path='C:\\Users', filename='', title='<b> Choose the Looker Init file (make sure to pass Admin key)…"
      ]
     },
     "metadata": {},
     "output_type": "display_data"
    },
    {
     "data": {
      "application/vnd.jupyter.widget-view+json": {
       "model_id": "b4f478caba7c42478219fdcc81364bdf",
       "version_major": 2,
       "version_minor": 0
      },
      "text/plain": [
       "FileChooser(path='C:\\Users', filename='', title='<b> Choose the Directory to store the Output files: </b>', sh…"
      ]
     },
     "metadata": {},
     "output_type": "display_data"
    }
   ],
   "source": [
    "import pandas as pd\n",
    "import getpass\n",
    "import json\n",
    "import datetime\n",
    "from ipyfilechooser import FileChooser\n",
    "\n",
    "LookerSchedPlanFC = FileChooser('c://users//')\n",
    "LookerSchedPlanFC.title = '<b> Choose the File that contains Looker Scheduled Plan details: </b>'\n",
    "LookerSchedPlanFC.use_dir_icons = True\n",
    "display(LookerSchedPlanFC)\n",
    "\n",
    "LookerIniFC = FileChooser('c://users//')\n",
    "LookerIniFC.title = '<b> Choose the Looker Init file (make sure to pass Admin key): </b>'\n",
    "LookerIniFC.use_dir_icons = True\n",
    "display(LookerIniFC)\n",
    "\n",
    "OutputDirFC = FileChooser('c://users//')\n",
    "OutputDirFC.title = '<b> Choose the Directory to store the Output files: </b>'\n",
    "OutputDirFC.use_dir_icons = True\n",
    "display(OutputDirFC)"
   ]
  },
  {
   "cell_type": "markdown",
   "metadata": {},
   "source": [
    "## <font color=\"rgb(250, 128, 114)\"> Execute the cell to process the file and Re-Assign the Subscriptions in Looker </font>"
   ]
  },
  {
   "cell_type": "code",
   "execution_count": null,
   "metadata": {},
   "outputs": [],
   "source": [
    "import pandas as pd\n",
    "import looker_sdk\n",
    "import datetime\n",
    "import ipywidgets as widgets\n",
    "\n",
    "LookerSchedPlanFile   = LookerSchedPlanFC.selected.replace(\"\\\\\", \"\\\\\\\\\")\n",
    "LookerIniFile         = LookerIniFC.selected.replace(\"\\\\\", \"\\\\\\\\\")\n",
    "sdk                   = looker_sdk.init40(LookerIniFile)\n",
    "layout                = widgets.Layout(width='400px', height='40px')\n",
    "style                 = {'description_width': 'initial'}\n",
    "\n",
    "LookerIniFile           = LookerIniFC.selected.replace(\"\\\\\", \"\\\\\\\\\")\n",
    "sdk                     = looker_sdk.init40(LookerIniFile)\n",
    "\n",
    "LookerSchedPlanFile     = LookerSchedPlanFC.selected.replace(\"\\\\\", \"\\\\\\\\\")\n",
    "OutputDir               = OutputDirFC.selected.replace(\"\\\\\", \"\\\\\\\\\")\n",
    "\n",
    "# Load the Looker Schedule Plan details and Flatten the Address for the corresponding Subscription ID.\n",
    "LookerSchedPlandf = pd.read_excel(LookerSchedPlanFile, sheet_name=0, header=0)\n",
    "LookerSchedPlandf = LookerSchedPlandf.fillna(' ')\n",
    "\n",
    "\n",
    "col_list          = []\n",
    "for col in LookerSchedPlandf.columns:\n",
    "    col_list.append(col)\n",
    "    \n",
    "def ReassignScheduledPlan(btn):\n",
    "    PlanID = PlanIdSelection.value\n",
    "    reassign_df         = pd.DataFrame()\n",
    "    \n",
    "    print('Process Started    : ' + datetime.datetime.now().strftime(\"%Y-%m-%d %H:%M:%S\"))\n",
    "    \n",
    "    body = {}\n",
    "    body['user_id'] = 357\n",
    "    \n",
    "    for idx, rows in LookerSchedPlandf.iterrows():\n",
    "        #print(sdk.scheduled_plan(rows[PlanID]))\n",
    "        exception = False\n",
    "        status    = \"\"\n",
    "        \n",
    "        try:\n",
    "            ReassignSchedPlanResp = sdk.update_scheduled_plan(rows[PlanID], body)\n",
    "            status                = \"Success\"\n",
    "        except Exception as e:\n",
    "            exception             = True\n",
    "            ReassignSchedPlanResp = e\n",
    "            status                = \"Failed\"\n",
    "\n",
    "        temp_df = pd.DataFrame({'PlanID':rows[PlanID], 'Status': status}, index=[0])\n",
    "        reassign_df = pd.concat([reassign_df, temp_df])\n",
    "    \n",
    "    BackupFile   = 'Reassign_Schedule_Plan_' + datetime.datetime.now().strftime(\"%Y-%m-%d %H_%M_%S\") + '.xlsx'\n",
    "    reassign_df.to_excel('Reassign_Schedule_Plan_' + datetime.datetime.now().strftime(\"%Y-%m-%d %H_%M_%S\") + '.xlsx', index=False, index_label=None)\n",
    "    print(\"Check the SDK response in the Backupfile file: \" + BackupFile)\n",
    "    \n",
    "    otputFile    = OutputDir + 'Create_Schedule_Plan_' + datetime.datetime.now().strftime(\"%Y-%m-%d %H_%M_%S\") + '.xlsx'\n",
    "\n",
    "    reassign_df.to_excel(otputFile, index=False, index_label=None)\n",
    "    print(\"Check the SDK response in the Output file: \" + otputFile)\n",
    "\n",
    "    print('Process Completed  : ' + datetime.datetime.now().strftime(\"%Y-%m-%d %H:%M:%S\"))\n",
    "    \n",
    "\n",
    "PlanIdSelection = widgets.Dropdown(\n",
    "                                    options=col_list,\n",
    "                                    description='Choose the column that contains Plan ID:',\n",
    "                                    disabled=False,\n",
    "                                    layout=layout,\n",
    "                                    style=style,\n",
    "                                  )\n",
    "ProcessButton   = widgets.Button(description='Reassign')\n",
    "ProcessButton.style.button_color = 'lightblue'\n",
    "\n",
    "\n",
    "display(PlanIdSelection, ProcessButton)\n",
    "ProcessButton.on_click(ReassignScheduledPlan)"
   ]
  },
  {
   "cell_type": "markdown",
   "metadata": {},
   "source": [
    "# Re-Creating Subscriptions in SubsLookerPrd from Back-up"
   ]
  },
  {
   "cell_type": "markdown",
   "metadata": {
    "heading_collapsed": true
   },
   "source": [
    "## <font color=\"rgb(250, 128, 114)\"> Execute the below Explore Query link and extract the information in xls: </font>\n",
    "\n",
    "<blockquote> <br>\n",
    "<nav>\n",
    "<a href=\"https://xpologisticsprod.cloud.looker.com/explore/system__activity/scheduled_plan?toggle=fil&qid=UIc2lPPBUCRSjM71BevzIK\"> Scheduled plan extraction from Looker </a>  <strong> => Make sure to adjust the filters appropriately </strong>\n",
    "</nav>\n",
    "<br>\n",
    "</blockquote>"
   ]
  },
  {
   "cell_type": "markdown",
   "metadata": {},
   "source": [
    "## <font color=\"rgb(250, 128, 114)\"> Choose the Spreadhseets / Files that contain the required information </font>"
   ]
  },
  {
   "cell_type": "code",
   "execution_count": 4,
   "metadata": {
    "scrolled": false
   },
   "outputs": [
    {
     "data": {
      "application/vnd.jupyter.widget-view+json": {
       "model_id": "c613d600f550416cba725edea6b62ee0",
       "version_major": 2,
       "version_minor": 0
      },
      "text/plain": [
       "FileChooser(path='C:\\Users', filename='', title='<b> Choose the File that contains Looker Scheduled Plan detai…"
      ]
     },
     "metadata": {},
     "output_type": "display_data"
    },
    {
     "data": {
      "application/vnd.jupyter.widget-view+json": {
       "model_id": "82b317b819554d85a8b7632cea84de57",
       "version_major": 2,
       "version_minor": 0
      },
      "text/plain": [
       "FileChooser(path='C:\\Users', filename='', title='<b> Choose the json file for creating Scheduled Plan: </b>', …"
      ]
     },
     "metadata": {},
     "output_type": "display_data"
    },
    {
     "data": {
      "application/vnd.jupyter.widget-view+json": {
       "model_id": "380f8c6f383b4792a43c75a815d03790",
       "version_major": 2,
       "version_minor": 0
      },
      "text/plain": [
       "FileChooser(path='C:\\Users', filename='', title='<b> Choose the Looker Init file (make sure to pass SubsLooker…"
      ]
     },
     "metadata": {},
     "output_type": "display_data"
    },
    {
     "data": {
      "application/vnd.jupyter.widget-view+json": {
       "model_id": "618ab2bd20534538b9c972c072273ccb",
       "version_major": 2,
       "version_minor": 0
      },
      "text/plain": [
       "FileChooser(path='C:\\Users', filename='', title='<b> Choose the Directory to store the Output files: </b>', sh…"
      ]
     },
     "metadata": {},
     "output_type": "display_data"
    }
   ],
   "source": [
    "import pandas as pd\n",
    "import getpass\n",
    "import json\n",
    "import datetime\n",
    "from ipyfilechooser import FileChooser\n",
    "\n",
    "LookerSchedPlanFC = FileChooser('c://users//')\n",
    "LookerSchedPlanFC.title = '<b> Choose the File that contains Looker Scheduled Plan details: </b>'\n",
    "LookerSchedPlanFC.use_dir_icons = True\n",
    "display(LookerSchedPlanFC)\n",
    "\n",
    "CreateSchedFC = FileChooser('c://users//')\n",
    "CreateSchedFC.title = '<b> Choose the json file for creating Scheduled Plan: </b>'\n",
    "CreateSchedFC.use_dir_icons = True\n",
    "display(CreateSchedFC)\n",
    "\n",
    "LookerIniFC = FileChooser('c://users//')\n",
    "LookerIniFC.title = '<b> Choose the Looker Init file (make sure to pass SubsLookerPrd key): </b>'\n",
    "LookerIniFC.use_dir_icons = True\n",
    "\n",
    "display(LookerIniFC)\n",
    "\n",
    "OutputDirFC = FileChooser('c://users//')\n",
    "OutputDirFC.title = '<b> Choose the Directory to store the Output files: </b>'\n",
    "OutputDirFC.use_dir_icons = True\n",
    "display(OutputDirFC)"
   ]
  },
  {
   "cell_type": "markdown",
   "metadata": {},
   "source": [
    "## <font color=\"rgb(250, 128, 114)\"> Execute the cell to process the file and set-up the Subscriptions in Looker </font>"
   ]
  },
  {
   "cell_type": "code",
   "execution_count": 8,
   "metadata": {},
   "outputs": [
    {
     "name": "stdout",
     "output_type": "stream",
     "text": [
      "Process Started    : 2022-03-01 21:15:36\n",
      "Check the SDK response in the Backupfile file: Create_Schedule_Plan_2022-03-01 21_15_44.xlsx\n",
      "Check the SDK response in the Output file: C:\\\\Users\\\\mratna\\\\Documents\\\\XPO\\\\CX\\\\Subs Auto\\\\Create_Schedule_Plan_2022-03-01 21_15_44.xlsx\n",
      "Process Completed  : 2022-03-01 21:15:44\n"
     ]
    }
   ],
   "source": [
    "import looker_sdk\n",
    "\n",
    "print('Process Started    : ' + datetime.datetime.now().strftime(\"%Y-%m-%d %H:%M:%S\"))\n",
    "\n",
    "LookerIniFile     = LookerIniFC.selected.replace(\"\\\\\", \"\\\\\\\\\")\n",
    "sdk               = looker_sdk.init40(LookerIniFile)\n",
    "\n",
    "def to_list(col):\n",
    "    return list(col)\n",
    "\n",
    "LookerSchedPlanFile     = LookerSchedPlanFC.selected.replace(\"\\\\\", \"\\\\\\\\\")\n",
    "CreateSchedFile         = CreateSchedFC.selected.replace(\"\\\\\", \"\\\\\\\\\")\n",
    "OutputDir               = OutputDirFC.selected.replace(\"\\\\\", \"\\\\\\\\\")\n",
    "\n",
    "# Load the Looker Schedule Plan details and Flatten the Address for the corresponding Subscription ID.\n",
    "LookerSchedPlandf = pd.read_excel(LookerSchedPlanFile, sheet_name=0, header=0)\n",
    "LookerSchedPlandf = LookerSchedPlandf.fillna(' ')\n",
    "\n",
    "Columns = LookerSchedPlandf.columns.tolist()\n",
    "Columns.remove('Scheduled Plan Destination Address')\n",
    "\n",
    "# Remove the schedules that doesn't have CronTab or DataGroup\n",
    "#LookerSchedPlandf = LookerSchedPlandf.loc[(LookerSchedPlandf['Scheduled Plan Cron Schedule'] != \" \") | (LookerSchedPlandf['Scheduled Plan Datagroup'] != \" \")]\n",
    "\n",
    "# Grouping the Dataframes and putting the address in the list\n",
    "LookerSchedPlandf = LookerSchedPlandf.groupby(Columns).agg({'Scheduled Plan Destination Address': to_list}).reset_index()\n",
    "\n",
    "def BuildAddress(var):\n",
    "    \n",
    "    EmailAddress = \"\"\n",
    "    for EmailID in var:\n",
    "        EmailAddress = EmailAddress + \", \" + EmailID.strip()\n",
    "    return EmailAddress.lstrip(' ').lstrip(',').lstrip(' ')\n",
    "\n",
    "final = pd.DataFrame()\n",
    "\n",
    "ParamCheck = lambda x: False if x == \"No\" else True\n",
    "\n",
    "for idx, rows in LookerSchedPlandf.iterrows():\n",
    "    \n",
    "    with open(CreateSchedFile, 'r') as json_file:\n",
    "        CreateSchedPlan                        = json.load(json_file)\n",
    "        CreateSchedPlan['name']                = rows['Scheduled Plan Name']\n",
    "        CreateSchedPlan['user_id']             = 1201  # Comment this line for <Testing>\n",
    "        CreateSchedPlan['run_as_recipient']    = ParamCheck(rows['Scheduled Plan Run As Recipient (Yes / No)']) \n",
    "        CreateSchedPlan['enabled']             = ParamCheck(rows['Scheduled Plan Enabled (Yes / No)']) \n",
    "        CreateSchedPlan['lookml_dashboard_id'] = None\n",
    "        CreateSchedPlan['filters_string']      = rows['Scheduled Plan Filters String']\n",
    "        CreateSchedPlan['require_results']     = ParamCheck(rows['Scheduled Plan Require Results (Yes / No)']) \n",
    "        CreateSchedPlan['require_no_results']  = ParamCheck(rows['Scheduled Plan Require No Results (Yes / No)']) \n",
    "        CreateSchedPlan['require_change']      = ParamCheck(rows['Scheduled Plan Require Change (Yes / No)']) \n",
    "        CreateSchedPlan['send_all_results']    = ParamCheck(rows['Scheduled Plan Send All Results (Yes / No)']) \n",
    "        CreateSchedPlan['timezone']            = rows['Scheduled Plan Timezone']\n",
    "        CreateSchedPlan['query_id']            = None\n",
    "        CreateSchedPlan['run_once']            = ParamCheck(rows['Scheduled Plan Run Once (Yes / No)'])\n",
    "        CreateSchedPlan['include_links']       = ParamCheck(rows['Scheduled Plan Include Links (Yes / No)']) \n",
    "        CreateSchedPlan['pdf_paper_size']      = None\n",
    "        CreateSchedPlan['pdf_landscape']       = False\n",
    "        CreateSchedPlan['embed']               = False\n",
    "        CreateSchedPlan['color_theme']         = \"~default\"\n",
    "        CreateSchedPlan['long_tables']         = False\n",
    "        CreateSchedPlan['inline_table_width']  = None\n",
    "\n",
    "\n",
    "        CreateSchedPlan['scheduled_plan_destination'][0]['id']                = 0\n",
    "        CreateSchedPlan['scheduled_plan_destination'][0]['scheduled_plan_id'] = 0\n",
    "        CreateSchedPlan['scheduled_plan_destination'][0]['format']            = rows['Scheduled Plan Destination Format']\n",
    "        CreateSchedPlan['scheduled_plan_destination'][0]['apply_formatting']  = ParamCheck(rows['Scheduled Plan Destination Apply Formatting (Yes / No)']) \n",
    "        CreateSchedPlan['scheduled_plan_destination'][0]['apply_vis']         = ParamCheck(rows['Scheduled Plan Destination Apply Vis (Yes / No)']) \n",
    "        CreateSchedPlan['scheduled_plan_destination'][0]['address']           = BuildAddress(rows['Scheduled Plan Destination Address'])\n",
    "        CreateSchedPlan['scheduled_plan_destination'][0]['type']              = rows['Scheduled Plan Destination Type']\n",
    "        CreateSchedPlan['scheduled_plan_destination'][0]['parameters']        = None\n",
    "        CreateSchedPlan['scheduled_plan_destination'][0]['secret_parameters'] = None\n",
    "        CreateSchedPlan['scheduled_plan_destination'][0]['message']           = rows['Scheduled Plan Destination Message']\n",
    "\n",
    "        if rows['Look ID'] != \" \":\n",
    "            CreateSchedPlan['look_id'] = rows['Look ID']\n",
    "        else:\n",
    "            CreateSchedPlan['look_id'] = None\n",
    "\n",
    "        if rows['Dashboard ID (User-defined only)'] != \" \":\n",
    "            CreateSchedPlan['dashboard_id'] = rows['Dashboard ID (User-defined only)']\n",
    "        else:\n",
    "            CreateSchedPlan['dashboard_id'] = None\n",
    "\n",
    "        if rows['Scheduled Plan Cron Schedule'] != \" \":\n",
    "            CreateSchedPlan['crontab'] = rows['Scheduled Plan Cron Schedule']  #\"30 12 29 2 *\" # use this CronTab for <Testing>\n",
    "        else:\n",
    "            CreateSchedPlan['crontab'] = None\n",
    "\n",
    "        if rows['Scheduled Plan Datagroup'] != \" \":\n",
    "            CreateSchedPlan['datagroup'] = rows['Scheduled Plan Datagroup']\n",
    "        else:\n",
    "            CreateSchedPlan['datagroup'] = None\n",
    "\n",
    "        CreateSchedPlanjson = json.dumps(CreateSchedPlan)\n",
    "        #print(CreateSchedPlanjson) # Uncomment for <Testing>\n",
    "\n",
    "#Comment all the lines below for <Testing> until the end tag \"</End>\"\n",
    "#<Start>\n",
    "    exception = False\n",
    "    status    = \"\"\n",
    "    try:\n",
    "        CreateSchedPlanResp = sdk.create_scheduled_plan(CreateSchedPlanjson)\n",
    "        status = \"Success\"\n",
    "    except Exception as e:\n",
    "        exception = True\n",
    "        CreateSchedPlanResp = e\n",
    "        status = \"Failed\"\n",
    "    if exception == False:\n",
    "        TmpSchedPlanID = str(CreateSchedPlanResp['scheduled_plan_destination'][0])\n",
    "        TmpSchedPlanID = TmpSchedPlanID[TmpSchedPlanID.find('scheduled_plan_id') + 18: 60]\n",
    "        TmpSchedPlanID = TmpSchedPlanID[0: TmpSchedPlanID.find(',')]\n",
    "    else:\n",
    "        TmpSchedPlanID = None\n",
    "\n",
    "    df = pd.DataFrame({'SchedName': rows['Scheduled Plan Name'], \\\n",
    "                       'SchedulePlanID': TmpSchedPlanID, 'TimeZone': rows['Scheduled Plan Timezone'], \\\n",
    "                       'Status': status, \\\n",
    "                       'LookID': rows['Look ID'], \\\n",
    "                       'DashboardID': rows['Dashboard ID (User-defined only)'], \\\n",
    "                       'CronTab': rows['Scheduled Plan Cron Schedule'], \\\n",
    "                       'DataGroup': rows['Scheduled Plan Datagroup'], \\\n",
    "                       'Format': rows['Scheduled Plan Destination Format'], \\\n",
    "                       'Type': rows['Scheduled Plan Destination Type'], \\\n",
    "                       'EmailBody': rows['Scheduled Plan Destination Message'], \\\n",
    "                       'EmailAddress': BuildAddress(rows['Scheduled Plan Destination Address']), \\\n",
    "                       'FilterString': rows['Scheduled Plan Filters String'], \\\n",
    "                       'CreateSchedPlanReq': CreateSchedPlanjson, 'CreateSchedPlanResp': str(CreateSchedPlanResp) \\\n",
    "                      }, index=[0])\n",
    "\n",
    "\n",
    "    final = pd.concat([final, df])\n",
    "\n",
    "BackupFile   = 'Create_Schedule_Plan_' + datetime.datetime.now().strftime(\"%Y-%m-%d %H_%M_%S\") + '.xlsx'\n",
    "final.to_excel(BackupFile, index=False, index_label=None)\n",
    "print(\"Check the SDK response in the Backupfile file: \" + BackupFile)\n",
    "    \n",
    "otputFile    = OutputDir + 'Create_Schedule_Plan_' + datetime.datetime.now().strftime(\"%Y-%m-%d %H_%M_%S\") + '.xlsx'\n",
    "\n",
    "final.to_excel(otputFile, index=False, index_label=None)\n",
    "print(\"Check the SDK response in the Output file: \" + otputFile)\n",
    "\n",
    "#</End>\n",
    "\n",
    "print('Process Completed  : ' + datetime.datetime.now().strftime(\"%Y-%m-%d %H:%M:%S\"))\n",
    "        \n",
    "    \n"
   ]
  },
  {
   "cell_type": "markdown",
   "metadata": {},
   "source": [
    "## <font color=\"rgb(250, 128, 114)\"> Choose the files to delete the Scheduled plan: </font>"
   ]
  },
  {
   "cell_type": "markdown",
   "metadata": {},
   "source": [
    "# Instructions for Deleting the Scheduled Plans"
   ]
  },
  {
   "cell_type": "code",
   "execution_count": 5,
   "metadata": {},
   "outputs": [
    {
     "data": {
      "application/vnd.jupyter.widget-view+json": {
       "model_id": "a0bad1a6abda4977b0aa721e594e5630",
       "version_major": 2,
       "version_minor": 0
      },
      "text/plain": [
       "FileChooser(path='C:\\Users', filename='', title='<b> Choose the file that contains Scheduled Plan ID: </b>', s…"
      ]
     },
     "metadata": {},
     "output_type": "display_data"
    },
    {
     "data": {
      "application/vnd.jupyter.widget-view+json": {
       "model_id": "a0e2b71f870e429c8aadd3c272bbde0a",
       "version_major": 2,
       "version_minor": 0
      },
      "text/plain": [
       "FileChooser(path='C:\\Users', filename='', title='<b> Choose the Looker Init file (make sure to pass admin key)…"
      ]
     },
     "metadata": {},
     "output_type": "display_data"
    }
   ],
   "source": [
    "import getpass\n",
    "from ipyfilechooser import FileChooser\n",
    "\n",
    "DeleteSchedFC = FileChooser('c://users//')\n",
    "DeleteSchedFC.title = '<b> Choose the file that contains Scheduled Plan ID: </b>'\n",
    "DeleteSchedFC.use_dir_icons = True\n",
    "display(DeleteSchedFC)\n",
    "\n",
    "LookerIniFC = FileChooser('c://users//')\n",
    "LookerIniFC.title = '<b> Choose the Looker Init file (make sure to pass admin key): </b>'\n",
    "LookerIniFC.use_dir_icons = True\n",
    "display(LookerIniFC)"
   ]
  },
  {
   "cell_type": "markdown",
   "metadata": {},
   "source": [
    "## <font color=\"rgb(250, 128, 114)\"> Execute the cell to Delete the Looker Subscriptions: </font>"
   ]
  },
  {
   "cell_type": "code",
   "execution_count": 6,
   "metadata": {
    "hide_input": false
   },
   "outputs": [
    {
     "data": {
      "application/vnd.jupyter.widget-view+json": {
       "model_id": "1d4955348f1544be90a5712ec9e67605",
       "version_major": 2,
       "version_minor": 0
      },
      "text/plain": [
       "Dropdown(description='Choose the column that contains Plan ID:', layout=Layout(height='40px', width='400px'), …"
      ]
     },
     "metadata": {},
     "output_type": "display_data"
    },
    {
     "data": {
      "application/vnd.jupyter.widget-view+json": {
       "model_id": "b70ef4a736d34ede8b538207b34be641",
       "version_major": 2,
       "version_minor": 0
      },
      "text/plain": [
       "Button(description='Del Scheduled Plan', style=ButtonStyle(button_color='lightblue'))"
      ]
     },
     "metadata": {},
     "output_type": "display_data"
    },
    {
     "name": "stdout",
     "output_type": "stream",
     "text": [
      "Process Started    : 2022-03-01 17:49:51\n",
      "Process Completed  : 2022-03-01 17:49:54\n"
     ]
    }
   ],
   "source": [
    "import pandas as pd\n",
    "import looker_sdk\n",
    "import datetime\n",
    "import ipywidgets as widgets\n",
    "\n",
    "DeleteSchedFile   = DeleteSchedFC.selected.replace(\"\\\\\", \"\\\\\\\\\")\n",
    "LookerIniFile     = LookerIniFC.selected.replace(\"\\\\\", \"\\\\\\\\\")\n",
    "sdk               = looker_sdk.init40(LookerIniFile)\n",
    "layout            = widgets.Layout(width='400px', height='40px')\n",
    "style             = {'description_width': 'initial'}\n",
    "delete_df         = pd.DataFrame()\n",
    "col_list          = []\n",
    "\n",
    "DeleteScheddf = pd.read_excel(DeleteSchedFile, sheet_name=0, header=0)\n",
    "\n",
    "for col in DeleteScheddf.columns:\n",
    "    col_list.append(col)\n",
    "    \n",
    "def GetScheduledPlan(btn):\n",
    "    PlanID = PlanIdSelection.value\n",
    "    delete_df         = pd.DataFrame()\n",
    "    \n",
    "    print('Process Started    : ' + datetime.datetime.now().strftime(\"%Y-%m-%d %H:%M:%S\"))\n",
    "    \n",
    "    for idx, rows in DeleteScheddf.iterrows():\n",
    "        #print(sdk.scheduled_plan(rows[PlanID]))\n",
    "        try:\n",
    "            DeleteSchedResp = sdk.delete_scheduled_plan(rows[PlanID])\n",
    "            DeleteSchedResp = 'Subscription Deleted from Looker'\n",
    "        except:\n",
    "            DeleteSchedResp = 'Couldnt get deleted due to an error'\n",
    "\n",
    "        temp_df = pd.DataFrame({'PlanID':rows[PlanID], 'SDKResp': DeleteSchedResp}, index=[0])\n",
    "        delete_df = pd.concat([delete_df, temp_df])\n",
    "    \n",
    "    delete_df.to_excel('Delete_Schedule_Plan_' + datetime.datetime.now().strftime(\"%Y-%m-%d %H_%M_%S\") + '.xlsx', index=False, index_label=None)\n",
    "\n",
    "    print('Process Completed  : ' + datetime.datetime.now().strftime(\"%Y-%m-%d %H:%M:%S\"))\n",
    "    \n",
    "\n",
    "PlanIdSelection = widgets.Dropdown(\n",
    "                                    options=col_list,\n",
    "                                    description='Choose the column that contains Plan ID:',\n",
    "                                    disabled=False,\n",
    "                                    layout=layout,\n",
    "                                    style=style,\n",
    "                                  )\n",
    "ProcessButton   = widgets.Button(description='Del Scheduled Plan')\n",
    "ProcessButton.style.button_color = 'lightblue'\n",
    "\n",
    "\n",
    "display(PlanIdSelection, ProcessButton)\n",
    "ProcessButton.on_click(GetScheduledPlan)"
   ]
  },
  {
   "cell_type": "code",
   "execution_count": null,
   "metadata": {},
   "outputs": [],
   "source": [
    "LookerSchedPlandf\n",
    "CreateSchedPlan['crontab']"
   ]
  },
  {
   "cell_type": "code",
   "execution_count": null,
   "metadata": {},
   "outputs": [],
   "source": []
  }
 ],
 "metadata": {
  "kernelspec": {
   "display_name": "Python 3 (ipykernel)",
   "language": "python",
   "name": "python3"
  },
  "language_info": {
   "codemirror_mode": {
    "name": "ipython",
    "version": 3
   },
   "file_extension": ".py",
   "mimetype": "text/x-python",
   "name": "python",
   "nbconvert_exporter": "python",
   "pygments_lexer": "ipython3",
   "version": "3.8.8"
  },
  "toc": {
   "base_numbering": 1,
   "nav_menu": {
    "height": "105px",
    "width": "566px"
   },
   "number_sections": true,
   "sideBar": true,
   "skip_h1_title": false,
   "title_cell": "Table of Contents",
   "title_sidebar": "Contents",
   "toc_cell": false,
   "toc_position": {
    "height": "calc(100% - 180px)",
    "left": "10px",
    "top": "150px",
    "width": "566px"
   },
   "toc_section_display": true,
   "toc_window_display": true
  }
 },
 "nbformat": 4,
 "nbformat_minor": 4
}
