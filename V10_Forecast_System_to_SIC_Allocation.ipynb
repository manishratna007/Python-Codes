{
 "cells": [
  {
   "cell_type": "markdown",
   "id": "7bfe9d7f",
   "metadata": {},
   "source": [
    "# Install pandas-gbq package from Anaconda Prompt"
   ]
  },
  {
   "cell_type": "code",
   "execution_count": null,
   "id": "0d668a55",
   "metadata": {},
   "outputs": [],
   "source": [
    "#For the first time, Open Anaconda Prompt as an Administrator and Run this code\n",
    "# It may take time upto 15 min to necessary packages. Allow the prompt everytime it asks for permission \n",
    "conda install pandas-gbq -c conda-forge"
   ]
  },
  {
   "cell_type": "markdown",
   "id": "0e99137d",
   "metadata": {},
   "source": [
    "# Import or install 5 packages - os, ipywidgets, Pandas, Numpy, Datetime"
   ]
  },
  {
   "cell_type": "code",
   "execution_count": null,
   "id": "ac2b3cf5",
   "metadata": {},
   "outputs": [],
   "source": [
    "#After installing pandas-gbq package run this section if following packages are not installed\n",
    "!pip install pandas\n",
    "!pip install numpy"
   ]
  },
  {
   "cell_type": "code",
   "execution_count": 1,
   "id": "7663242d",
   "metadata": {},
   "outputs": [],
   "source": [
    "#Importing all necessary packages\n",
    "import os\n",
    "import pandas as pd\n",
    "from pandas.io import gbq\n",
    "import numpy as np\n",
    "from datetime import datetime\n",
    "import ipywidgets as widgets"
   ]
  },
  {
   "cell_type": "markdown",
   "id": "f756cc51",
   "metadata": {},
   "source": [
    "# Get Last Year's same Month's data from GBQ"
   ]
  },
  {
   "cell_type": "code",
   "execution_count": null,
   "id": "00ee946f",
   "metadata": {},
   "outputs": [],
   "source": [
    "start_date = input('Enter a date in YYYY-MM-DD format: ')\n",
    "end_date = input('Enter a date in YYYY-MM-DD format: ')\n",
    "\n",
    "query = \"SELECT LOC.LVL4_SIC_CD AS REF_SIC_CD, COUNT(DISTINCT SHPMT_INSTC_ID) AS SHIPMENT_COUNT, sum(NET_REVENUE) as NET_REVENUE, SUM(WEIGHT) AS WEIGHT,SUM(NET_REVENUE_LESS_FSC) AS NET_REVENUE_LESS_FSC, safe_divide(ROUND(COALESCE(CAST( ( SUM(DISTINCT (CAST(ROUND(COALESCE( ( (WEIGHT/2000) * SIC_MILES  )  ,0) *(1/1000*1.0), 9) AS NUMERIC) +(cast(cast(concat('0x', substr(to_hex(md5(CAST( SHPMT_INSTC_ID   AS STRING))), 1, 15)) as int64) as numeric) * 4294967296 +cast(cast(concat('0x', substr(to_hex(md5(CAST( SHPMT_INSTC_ID   AS STRING))), 16, 8)) as int64) as numeric)) * 0.000000001 )) -SUM(DISTINCT (cast(cast(concat('0x', substr(to_hex(md5(CAST( SHPMT_INSTC_ID   AS STRING))), 1, 15)) as int64) as numeric) * 4294967296 +cast(cast(concat('0x', substr(to_hex(md5(CAST( SHPMT_INSTC_ID   AS STRING))), 16, 8)) as int64) as numeric)) * 0.000000001) )  /(1/1000*1.0) AS FLOAT64), 0), 6), ROUND(COALESCE(CAST( ( SUM(DISTINCT (CAST(ROUND(COALESCE(WEIGHT  ,0)*(1/1000*1.0), 9) AS NUMERIC)+ (cast(cast(concat('0x', substr(to_hex(md5(CAST( SHPMT_INSTC_ID   AS STRING))), 1, 15)) as int64) as numeric) * 4294967296 +cast(cast(concat('0x', substr(to_hex(md5(CAST(SHPMT_INSTC_ID   AS STRING))), 16, 8)) as int64) as numeric)) * 0.000000001 )) -SUM(DISTINCT (cast(cast(concat('0x', substr(to_hex(md5(CAST(SHPMT_INSTC_ID   AS STRING))), 1, 15)) as int64) as numeric) * 4294967296 +cast(cast(concat('0x', substr(to_hex(md5(CAST(SHPMT_INSTC_ID   AS STRING))), 16, 8)) as int64) as numeric)) * 0.000000001) ) / (1/1000*1.0) AS FLOAT64), 0), 6)) * 2000 AS LENGTH_OF_HAUL FROM `ltl-prd-datahub.LOOKER_TEMPORARY_LAYER.PC_SHIPMENT` SHP left join `ltl-prd-datahub.LOOKER_TEMPORARY_LAYER.PC_CALENDAR` CAL on SHP.PICKUP_DATE = CAL.CLDR_DATE left join `ltl-prd-datahub.ALL_LOOKER_VIEW.LOC_FREIGHT_POSTAL_AREA_RDS_VW` SIC on SIC.GEO_PSTL_CD = SHP.SHPR_ZIP and SIC.ACTV_FLG = 1 left join `ltl-prd-datahub.ALL_LOOKER_VIEW.LOC_OPS_HIERARCHY_FLATTEN_VW` LOC on SIC.REF_SIC_CD = LOC.LVL5_SIC_CD WHERE PICKUP_DATE between '\"+start_date+\"' and '\"+end_date+\"' and CAL.REV_DAY <> 0 and IS_REV_SHPMT = 'Y' and LOC.LVL4_SIC_CD is not null group by 1 order by 1\"\n",
    "\n",
    "df_sic = pd.read_gbq(project_id='ltl-prd-data-user', query=query, dialect='standard')"
   ]
  },
  {
   "cell_type": "code",
   "execution_count": 3,
   "id": "171693eb",
   "metadata": {},
   "outputs": [
    {
     "ename": "NameError",
     "evalue": "name 'df_sic' is not defined",
     "output_type": "error",
     "traceback": [
      "\u001b[1;31m---------------------------------------------------------------------------\u001b[0m",
      "\u001b[1;31mNameError\u001b[0m                                 Traceback (most recent call last)",
      "\u001b[1;32m~\\AppData\\Local\\Temp/ipykernel_10612/3574820202.py\u001b[0m in \u001b[0;36m<module>\u001b[1;34m\u001b[0m\n\u001b[0;32m      1\u001b[0m \u001b[1;31m#df_sic with some missing SIC data\u001b[0m\u001b[1;33m\u001b[0m\u001b[1;33m\u001b[0m\u001b[1;33m\u001b[0m\u001b[0m\n\u001b[1;32m----> 2\u001b[1;33m \u001b[0mdf_sic\u001b[0m\u001b[1;33m.\u001b[0m\u001b[0mto_csv\u001b[0m\u001b[1;33m(\u001b[0m\u001b[1;34mr'C:\\Users\\mratna\\Documents\\XPO\\Finance\\Goal_forecasting\\Nov- Dec 22\\V1\\Dec\\Dec-21-SIC-v1.csv'\u001b[0m\u001b[1;33m)\u001b[0m\u001b[1;33m\u001b[0m\u001b[1;33m\u001b[0m\u001b[0m\n\u001b[0m",
      "\u001b[1;31mNameError\u001b[0m: name 'df_sic' is not defined"
     ]
    }
   ],
   "source": [
    "#df_sic with some missing SIC data\n",
    "df_sic.to_csv(r'C:\\Users\\mratna\\Documents\\XPO\\Finance\\Goal_forecasting\\Nov- Dec 22\\V1\\Dec\\Dec-21-SIC-v1.csv')"
   ]
  },
  {
   "cell_type": "code",
   "execution_count": null,
   "id": "fbbc2d44",
   "metadata": {},
   "outputs": [],
   "source": [
    "#Get data of NMN, UKC from GBQ query in GBQ\n",
    "select ORIGIN_SIC_CODE, \n",
    "       count(distinct SHPMT_INSTC_ID) as SHPMNT_CNT,\n",
    "       sum(NET_REVENUE) as NET_REVENUE,\n",
    "       sum(NET_REVENUE_LESS_FSC) as NET_REVENUE_LESS_FSC,\n",
    "       sum(WEIGHT) as WEIGHT\n",
    "#       ((sum(WEIGHT)/2000)*SUM(SIC_MILES)) AS LOH\n",
    "from ltl-prd-datahub.LOOKER_TEMPORARY_LAYER.PC_SHIPMENT \n",
    "where IS_REV_SHPMT='Y'\n",
    "      and PICKUP_DATE between '2021-11-01' and '2021-11-30'\n",
    "      and ORIGIN_SIC_CODE in ('NMN','UKC')\n",
    "GROUP BY 1"
   ]
  },
  {
   "cell_type": "code",
   "execution_count": 4,
   "id": "df12c9f4",
   "metadata": {},
   "outputs": [],
   "source": [
    "#Updated df_sic (including missing SIC_TERM_ZONE_CODES values from Sarah's file) (like add NMN,UKC and remove UAM,UAD,NAX IN nov 22 )\n",
    "#Add data of NMN from GBQ query UKC  \n",
    "df_sic=pd.read_csv(r'C:\\Users\\mratna\\OneDrive - XPO Logistics\\Documents\\XPO\\Finance\\Goal_forecasting\\Nov- Dec 22\\V1\\Dec\\Dec-21-SIC-v1.csv')"
   ]
  },
  {
   "cell_type": "markdown",
   "id": "3258fa5a",
   "metadata": {},
   "source": [
    "# Section for Forecast Only (As its updated multiple time within same month)\n",
    "\n",
    "# Select Forecast Excel file"
   ]
  },
  {
   "cell_type": "code",
   "execution_count": null,
   "id": "83f1e4d0",
   "metadata": {},
   "outputs": [],
   "source": [
    "#Select Forecast Excel file\n",
    "from ipyfilechooser import FileChooser\n",
    "\n",
    "BudgetFinanceExcelFile = FileChooser('c://users//')\n",
    "BudgetFinanceExcelFile.title = '<b> Choose the File that contains Forecast  details: </b>'\n",
    "BudgetFinanceExcelFile.use_dir_icons = True\n",
    "display(BudgetFinanceExcelFile)"
   ]
  },
  {
   "cell_type": "code",
   "execution_count": null,
   "id": "b630f885",
   "metadata": {},
   "outputs": [],
   "source": [
    "#Reading Forecast data\n",
    "#Assuming there are 2 worksheets in the Excel and 2nd one is for Forecast\n",
    "BudgetFinanceExcelFile     = BudgetFinanceExcelFile.selected.replace(\"\\\\\", \"\\\\\\\\\")\n",
    "df_fc = pd.read_excel(BudgetFinanceExcelFile, sheet_name=0, header=0) "
   ]
  },
  {
   "cell_type": "code",
   "execution_count": null,
   "id": "13e42b4d",
   "metadata": {},
   "outputs": [],
   "source": [
    "df_fc = pd.read_excel(r'C:\\Users\\mratna\\Documents\\XPO\\Finance\\Goal_forecasting\\Dec 22\\V2.xlsx', sheet_name=0, header=0)"
   ]
  },
  {
   "cell_type": "code",
   "execution_count": null,
   "id": "af252099",
   "metadata": {},
   "outputs": [],
   "source": [
    "#Updated df_sic (including missing SIC_TERM_ZONE_CODES values from Sarah's file) (like add NMN,UKC and remove UAM,UAD,NAX IN nov 22 )\n",
    "#Add data of NMN from GBQ query UKC  \n",
    "df_sic=pd.read_csv(r'C:\\Users\\mratna\\Documents\\XPO\\Finance\\Goal_forecasting\\Nov- Dec 22\\V2\\Nov\\Nov-21-SIC-v1.csv')"
   ]
  },
  {
   "cell_type": "code",
   "execution_count": null,
   "id": "021432bb",
   "metadata": {},
   "outputs": [],
   "source": [
    "#Get Date value for last update date column\n",
    "last_update_date= input('Enter today\"s date in YYYY-MM-DD format: ') #2022-04-01 00:00:00\n",
    "last_updated_by= input('Enter your name: ')  #mr"
   ]
  },
  {
   "cell_type": "code",
   "execution_count": null,
   "id": "7004b150",
   "metadata": {},
   "outputs": [],
   "source": [
    "#Selecting only relevant columns from Goal and Forecasting data\n",
    "df_fc_1=df_fc[['PICKUP_DATE','SHPMT_CNT','WGT','NET_REV','NET_REV_NET_FSC','LoH','FSC%','Ton-miles','FSC Retention']]\n",
    "    \n",
    "#Selecting only non-blank goal and forecasting data\n",
    "df_fc_1.dropna(subset=['SHPMT_CNT'], inplace=True)\n",
    "    \n",
    "#Remove last 2 columns which has aggregated values\n",
    "df_fc_2=df_fc_1.iloc[:(len(df_fc_1)-2)]\n",
    "    \n",
    "# % Calculation for SIC data of last year\n",
    "df_sic['shipment_count_%']=df_sic['SHIPMENT_COUNT']/sum(df_sic['SHIPMENT_COUNT'])\n",
    "df_sic['net_revenue_%']=df_sic['NET_REVENUE']/sum(df_sic['NET_REVENUE'])\n",
    "df_sic['weight_%']=df_sic['WEIGHT']/sum(df_sic['WEIGHT'])\n",
    "df_sic['net_revenue_less_fsc_%']=df_sic['NET_REVENUE_LESS_FSC']/sum(df_sic['NET_REVENUE_LESS_FSC'])\n",
    "df_sic['length_of_haul_%']=df_sic['LENGTH_OF_HAUL']/(df_sic['LENGTH_OF_HAUL'].mean())\n",
    "    \n",
    "#Take only date column from either forecast or goal data\n",
    "df_wrk_day=df_fc_2['PICKUP_DATE']\n",
    "    \n",
    "#Repeat working days (20) - number of SIC times (693 times)  - Using Numpy\n",
    "np.tile(np.arange(len(df_sic)), len(df_wrk_day))\n",
    "np.repeat(np.arange(len(df_sic)), len(df_wrk_day))\n",
    "df_sic_2=df_sic.iloc[np.tile(np.arange(len(df_sic)), len(df_wrk_day))]\n",
    "df_sic_2.reset_index(drop=True)\n",
    "    \n",
    "#Repeat working days (For example, 20) - number of SIC times (For example, 693 times) \n",
    "df_wrk_day_rep=df_wrk_day.loc[df_wrk_day.index.repeat(len(df_sic))].reset_index(drop=True)\n",
    "    \n",
    "#Add Date column in repeated SIC data\n",
    "df_sic_2['PICKUP_DATE']=df_wrk_day_rep.values\n",
    "    \n",
    "#Modify Date columns of Bud and FC data\n",
    "df_fc_2['PICKUP_DATE']=df_fc_2['PICKUP_DATE'].astype(str)\n",
    "df_sic_2['PICKUP_DATE']=df_sic_2['PICKUP_DATE'].astype(str)\n",
    "df_sic_2['PICKUP_DATE']=df_sic_2['PICKUP_DATE']+[' 00:00:00']\n",
    "    \n",
    "#Left Join repeated SIC Data with Bud and FC data\n",
    "df_fc_final=df_sic_2.merge(df_fc_2, on='PICKUP_DATE', how='left')\n",
    "    \n",
    "#Calculate final columns with relevant column headers\n",
    "df_fc_final['OutboundRevenueShipmentsForecast']=(df_fc_final['shipment_count_%']*df_fc_final['SHPMT_CNT'])\n",
    "df_fc_final['OutboundRevenueWeightForecast']=(df_fc_final['weight_%']*df_fc_final['WGT'])\n",
    "df_fc_final['OutboundRevenueForecast']=(df_fc_final['net_revenue_%']*df_fc_final['NET_REV'])\n",
    "df_fc_final['OutboundRevenueLessFSCForecast']=(df_fc_final['net_revenue_less_fsc_%']*df_fc_final['NET_REV_NET_FSC'])\n",
    "df_fc_final['OutboundRevenueLengthofHaulForecast']=(df_fc_final['length_of_haul_%']*df_fc_final['LoH'])\n",
    "    \n",
    "#Selecting only relevant columns\n",
    "df_fc_final_1=df_fc_final[['REF_SIC_CD','PICKUP_DATE','OutboundRevenueShipmentsForecast']]\n",
    "df_fc_final_1.columns = [*df_fc_final_1.columns[:-1], 'GOAL_VAL_QTY']\n",
    "df_fc_final_1['GOAL_MTRC_CD']='OutboundRevenueShipmentsForecast'\n",
    "df_fc_final_2=df_fc_final[['REF_SIC_CD','PICKUP_DATE','OutboundRevenueWeightForecast']]\n",
    "df_fc_final_2.columns = [*df_fc_final_2.columns[:-1], 'GOAL_VAL_QTY']\n",
    "df_fc_final_2['GOAL_MTRC_CD']='OutboundRevenueWeightForecast'\n",
    "df_fc_final_3=df_fc_final[['REF_SIC_CD','PICKUP_DATE','OutboundRevenueForecast']]\n",
    "df_fc_final_3.columns = [*df_fc_final_3.columns[:-1], 'GOAL_VAL_QTY']\n",
    "df_fc_final_3['GOAL_MTRC_CD']='OutboundRevenueForecast'\n",
    "df_fc_final_4=df_fc_final[['REF_SIC_CD','PICKUP_DATE','OutboundRevenueLessFSCForecast']]\n",
    "df_fc_final_4.columns = [*df_fc_final_4.columns[:-1], 'GOAL_VAL_QTY']\n",
    "df_fc_final_4['GOAL_MTRC_CD']='OutboundRevenueLessFSCForecast'\n",
    "df_fc_final_5=df_fc_final[['REF_SIC_CD','PICKUP_DATE','OutboundRevenueLengthofHaulForecast']]\n",
    "df_fc_final_5.columns = [*df_fc_final_5.columns[:-1], 'GOAL_VAL_QTY']\n",
    "df_fc_final_5['GOAL_MTRC_CD']='OutboundRevenueLengthofHaulForecast'\n",
    "    \n",
    "#Put all columns under one column header as 'GOAL_VAL_QTY'\n",
    "df_fc_final_6=df_fc_final_1.append(df_fc_final_2)\n",
    "df_fc_final_7=df_fc_final_6.append(df_fc_final_3)\n",
    "df_fc_final_8=df_fc_final_7.append(df_fc_final_4)\n",
    "df_fc_final_9=df_fc_final_8.append(df_fc_final_5)\n",
    "df_fc_final_9['GOAL_REF_LVL_CD']='SICTMZ'\n",
    "df_fc_final_9['WHSE_LST_UPDT_DT']=last_update_date\n",
    "df_fc_final_9['WHSE_LST_UPDT_BY']=last_updated_by\n",
    "df_fc_final_9['GOAL_VAL_EFF_DT']=df_fc_final_9['PICKUP_DATE']\n",
    "df_fc_final_9['GOAL_VAL_EXPR_DT']=df_fc_final_9['PICKUP_DATE']\n",
    "df_fc_final_9['GOAL_CD']=df_fc_final_9['REF_SIC_CD']\n",
    "    \n",
    "#Renaminng column headers to the standard and rearranging order of columns\n",
    "df_fc_final_10=df_fc_final_9[['GOAL_MTRC_CD','GOAL_REF_LVL_CD','GOAL_CD','GOAL_VAL_EFF_DT','GOAL_VAL_EXPR_DT','GOAL_VAL_QTY',\n",
    "                               'WHSE_LST_UPDT_DT','WHSE_LST_UPDT_BY']]"
   ]
  },
  {
   "cell_type": "code",
   "execution_count": null,
   "id": "14704fe5",
   "metadata": {},
   "outputs": [],
   "source": [
    "#Check Datatypes of outputs here and change them in the table schema in next section (Object - String)\n",
    "df_fc_final_10.dtypes"
   ]
  },
  {
   "cell_type": "code",
   "execution_count": null,
   "id": "e553e099",
   "metadata": {},
   "outputs": [],
   "source": [
    "#Change daatype of datatypes of \"date time columns\" into datetime64[ns]\n",
    "#If they aren't already\n",
    "df_fc_final_10['GOAL_VAL_EFF_DT'] = df_fc_final_10['GOAL_VAL_EFF_DT'].astype('datetime64[ns]')\n",
    "df_fc_final_10['GOAL_VAL_EXPR_DT'] = df_fc_final_10['GOAL_VAL_EXPR_DT'].astype('datetime64[ns]')\n",
    "df_fc_final_10['WHSE_LST_UPDT_DT'] = df_fc_final_10['WHSE_LST_UPDT_DT'] .astype('datetime64[ns]')"
   ]
  },
  {
   "cell_type": "markdown",
   "id": "132e9acd",
   "metadata": {},
   "source": [
    "# Uploading Forecast Output to Already existing GBQ Sandbox"
   ]
  },
  {
   "cell_type": "code",
   "execution_count": null,
   "id": "7bd6fc97",
   "metadata": {},
   "outputs": [],
   "source": [
    "#Update table schema as per the output of previous section. We have already defined table schema in GBQ, so it won't matter\n",
    "df_fc_final_10.to_gbq(\n",
    "    destination_table='ltl-prd-data-user.SANDBOX.Fin_Bud_FC_Test',\n",
    "    table_schema=[\n",
    "        {'name': 'GOAL_MTRC_CD','type': 'STRING'},\n",
    "        {'name': 'GOAL_REF_LVL_CD','type': 'STRING'},\n",
    "        {'name': 'GOAL_CD','type': 'STRING'},\n",
    "        {'name': 'GOAL_VAL_EFF_DT','type': 'DATETIME'},\n",
    "        {'name': 'GOAL_VAL_EXPR_DT','type': 'DATETIME'},\n",
    "        {'name': 'GOAL_VAL_QTY','type': 'FLOAT'},\n",
    "        {'name': 'WHSE_LST_UPDT_DT','type': 'DATETIME'},\n",
    "        {'name': 'WHSE_LST_UPDT_BY','type': 'STRING'}\n",
    "    ],\n",
    "    project_id='ltl-prd-data-user',\n",
    "    if_exists='replace'\n",
    ")"
   ]
  },
  {
   "cell_type": "markdown",
   "id": "441aee29",
   "metadata": {},
   "source": [
    "# QA Section"
   ]
  },
  {
   "cell_type": "code",
   "execution_count": null,
   "id": "25ae8d0e",
   "metadata": {},
   "outputs": [],
   "source": [
    "#QA Step 1\n",
    "#Total Number of Rows (No of working days in the month * Number of SICs in last year's same month data * Number of Parameters)\n",
    "#(For example, For March 2021, its 23*698*10 (5 for both Budget and Forecast))\n",
    "print(len(df_sic))\n",
    "print(len(df_wrk_day))\n",
    "print(len(df_fc_final_10)) ## df_fc_final_10 for forecast only #df_bud_fc_final for both budget and forecast"
   ]
  },
  {
   "cell_type": "code",
   "execution_count": null,
   "id": "caf4ede3",
   "metadata": {},
   "outputs": [],
   "source": [
    "#QA Step 2\n",
    "#Sum of all parameters columns\n",
    "table = pd.DataFrame(pd.pivot_table(df_fc_final_10, values='GOAL_VAL_QTY', index=['GOAL_MTRC_CD'],aggfunc=np.sum)) \n",
    "#average for Lenght Of Haul\n",
    "pd.set_option('display.float_format', lambda x: '%.2f' % x)\n",
    "table"
   ]
  },
  {
   "cell_type": "code",
   "execution_count": null,
   "id": "c679ab33",
   "metadata": {},
   "outputs": [],
   "source": [
    "#QA Step 3\n",
    "#Check Average of LOH columns\n",
    "table = pd.DataFrame(pd.pivot_table(df_fc_final_10, values='GOAL_VAL_QTY', index=['GOAL_MTRC_CD'],aggfunc=np.average))\n",
    "pd.set_option('display.float_format', lambda x: '%.2f' % x)\n",
    "table"
   ]
  },
  {
   "cell_type": "code",
   "execution_count": null,
   "id": "cfbfeca5",
   "metadata": {},
   "outputs": [],
   "source": [
    "#QA Step 4\n",
    "#Check few rows\n",
    "df_fc_final_10.head()"
   ]
  },
  {
   "cell_type": "code",
   "execution_count": null,
   "id": "6cbc48e5",
   "metadata": {},
   "outputs": [],
   "source": [
    "#Save output as csv to QA\n",
    "df_fc_final_10.to_csv(r'C:\\Users\\mratna\\Documents\\XPO\\Finance\\Goal_forecasting\\Nov- Dec 22\\V2\\Nov\\Nov_22_Goal_Loader_V2_Forecast_Final.csv')\n",
    "#df_sic.to_csv(r'C:\\Users\\mratna\\Documents\\XPO\\Finance\\Goal_forecasting\\July-22\\V1\\Jun_21_SIC_Final.csv')"
   ]
  },
  {
   "cell_type": "code",
   "execution_count": null,
   "id": "4f0f3441",
   "metadata": {},
   "outputs": [],
   "source": [
    "df_sic.to_csv(r'C:\\Users\\mratna\\Documents\\XPO\\Finance\\Goal_forecasting\\Sep - 22\\V1\\Sep_21_SIC_V2.csv')"
   ]
  }
 ],
 "metadata": {
  "celltoolbar": "Raw Cell Format",
  "kernelspec": {
   "display_name": "Python 3 (ipykernel)",
   "language": "python",
   "name": "python3"
  },
  "language_info": {
   "codemirror_mode": {
    "name": "ipython",
    "version": 3
   },
   "file_extension": ".py",
   "mimetype": "text/x-python",
   "name": "python",
   "nbconvert_exporter": "python",
   "pygments_lexer": "ipython3",
   "version": "3.8.8"
  }
 },
 "nbformat": 4,
 "nbformat_minor": 5
}
