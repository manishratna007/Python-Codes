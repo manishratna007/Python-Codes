{
 "cells": [
  {
   "cell_type": "code",
   "execution_count": 1,
   "id": "6ccfb3d7",
   "metadata": {},
   "outputs": [],
   "source": [
    "#Import Packages\n",
    "import pandas as pd\n",
    "import os\n",
    "\n",
    "#Select Folder Path\n",
    "os.chdir(r'C:\\Users\\mratna\\Documents\\XPO\\Finance\\Goal_forecasting\\Aug-22\\V1')\n",
    "\n",
    "#Select worksheet name\n",
    "data_df = pd.read_excel(r'Traditional_Aug-22_Goal_Loader V2_with_comparison.xlsx',sheet_name='Final Values')\n",
    "grouped_df = data_df.groupby('GOAL_MTRC_CD')\n",
    "\n",
    "#Enter Name Patter for files\n",
    "for data in grouped_df.GOAL_MTRC_CD:\n",
    "     grouped_df.get_group(data[0]).to_csv(data[0]+\"_GOALS.csv\",index=False)"
   ]
  },
  {
   "cell_type": "code",
   "execution_count": null,
   "id": "70627bd6",
   "metadata": {},
   "outputs": [],
   "source": []
  }
 ],
 "metadata": {
  "kernelspec": {
   "display_name": "Python 3 (ipykernel)",
   "language": "python",
   "name": "python3"
  },
  "language_info": {
   "codemirror_mode": {
    "name": "ipython",
    "version": 3
   },
   "file_extension": ".py",
   "mimetype": "text/x-python",
   "name": "python",
   "nbconvert_exporter": "python",
   "pygments_lexer": "ipython3",
   "version": "3.8.8"
  }
 },
 "nbformat": 4,
 "nbformat_minor": 5
}
